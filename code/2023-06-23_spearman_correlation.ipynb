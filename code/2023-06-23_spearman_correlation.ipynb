{
 "cells": [
  {
   "cell_type": "code",
   "execution_count": 1,
   "id": "bfd4c5fd",
   "metadata": {},
   "outputs": [],
   "source": [
    "import pandas as pd\n",
    "from scipy.stats import spearmanr\n",
    "\n",
    "data = pd.read_csv('/Users/yunjuha/Desktop/SROP/DXA_BIS_Project/2023-06-23_DXA_BIS_data.csv')\n",
    "\n",
    "filtered_df = data.loc[:, ['RA1PRAGE', 'RA4PBMI', 'RA4IMaxGrip', 'RA4DRAWJPOWO', 'RA4IALM', 'RA4IALMbyHt2', 'RA4IALMbyBMI', 'RA4IcorE2I', 'RA4IALMbyE2I', 'RA4ILLM', 'RA4ILegE2I', 'RA4ILLMbyLE2Icor']]\n"
   ]
  },
  {
   "cell_type": "code",
   "execution_count": 11,
   "id": "7d579340",
   "metadata": {},
   "outputs": [
    {
     "name": "stdout",
     "output_type": "stream",
     "text": [
      "Spearman's correlation coefficient for AGE vs BMI: 0.06\n",
      "Spearman's correlation coefficient for AGE vs HGS: 0.002\n",
      "Spearman's correlation coefficient for AGE vs JP: -0.427\n"
     ]
    }
   ],
   "source": [
    "#compute Spearman's rank correlation\n",
    "corr, p_values = spearmanr(filtered_df)\n",
    "\n",
    "# Print the correlation matrix\n",
    "#print(corr_matrix)\n",
    "\n",
    "#AGE vs BMI\n",
    "corr, p_value = spearmanr(filtered_df['RA1PRAGE'], filtered_df['RA4PBMI'])\n",
    "print(\"Spearman's correlation coefficient for AGE vs BMI:\", round(corr, 3))\n",
    "\n",
    "#AGE vs HGS \n",
    "corr, p_value = spearmanr(filtered_df['RA1PRAGE'], filtered_df['RA4IMaxGrip'])\n",
    "print(\"Spearman's correlation coefficient for AGE vs HGS:\", round(corr, 3))\n",
    "\n",
    "#AGE vs JP\n",
    "corr, p_value = spearmanr(filtered_df['RA1PRAGE'], filtered_df['RA4DRAWJPOWO'])\n",
    "print(\"Spearman's correlation coefficient for AGE vs JP:\", round(corr, 3))\n"
   ]
  },
  {
   "cell_type": "code",
   "execution_count": 12,
   "id": "9c54b7ac",
   "metadata": {},
   "outputs": [
    {
     "name": "stdout",
     "output_type": "stream",
     "text": [
      "Spearman's correlation coefficient for BMI vs AGE: 0.06\n",
      "Spearman's correlation coefficient for BMI vs HGS: -0.082\n",
      "Spearman's correlation coefficient for BMI vs JP: 0.171\n"
     ]
    }
   ],
   "source": [
    "#BMI vs Age\n",
    "corr, p_value = spearmanr(filtered_df['RA4PBMI'], filtered_df['RA1PRAGE'])\n",
    "print(\"Spearman's correlation coefficient for BMI vs AGE:\", round(corr, 3))\n",
    "\n",
    "#BMI vs HGS\n",
    "corr, p_value = spearmanr(filtered_df['RA4PBMI'], filtered_df['RA4IMaxGrip'])\n",
    "print(\"Spearman's correlation coefficient for BMI vs HGS:\", round(corr, 3))\n",
    "\n",
    "#BMI vs JP\n",
    "corr, p_value = spearmanr(filtered_df['RA4PBMI'], filtered_df['RA4DRAWJPOWO'])\n",
    "print(\"Spearman's correlation coefficient for BMI vs JP:\", round(corr, 3))\n"
   ]
  },
  {
   "cell_type": "code",
   "execution_count": 13,
   "id": "de258709",
   "metadata": {},
   "outputs": [
    {
     "name": "stdout",
     "output_type": "stream",
     "text": [
      "Spearman's correlation coefficient for HGS vs AGE: 0.002\n",
      "Spearman's correlation coefficient for HGS vs BMI: -0.082\n",
      "Spearman's correlation coefficient for HGS vs JP: 0.506\n"
     ]
    }
   ],
   "source": [
    "#HGS vs Age\n",
    "corr, p_value = spearmanr(filtered_df['RA4IMaxGrip'], filtered_df['RA1PRAGE'])\n",
    "print(\"Spearman's correlation coefficient for HGS vs AGE:\", round(corr, 3))\n",
    "\n",
    "#HGS vs BMI\n",
    "corr, p_value = spearmanr(filtered_df['RA4IMaxGrip'], filtered_df['RA4PBMI'])\n",
    "print(\"Spearman's correlation coefficient for HGS vs BMI:\", round(corr, 3))\n",
    "\n",
    "#HGS vs JP\n",
    "corr, p_value = spearmanr(filtered_df['RA4IMaxGrip'], filtered_df['RA4DRAWJPOWO'])\n",
    "print(\"Spearman's correlation coefficient for HGS vs JP:\", round(corr, 3))\n"
   ]
  },
  {
   "cell_type": "code",
   "execution_count": 14,
   "id": "6ad9cb54",
   "metadata": {},
   "outputs": [
    {
     "name": "stdout",
     "output_type": "stream",
     "text": [
      "Spearman's correlation coefficient for JP vs AGE: -0.427\n",
      "Spearman's correlation coefficient for JP vs BMI: 0.171\n",
      "Spearman's correlation coefficient for JP vs HGS: 0.506\n"
     ]
    }
   ],
   "source": [
    "#JP vs Age\n",
    "corr, p_value = spearmanr(filtered_df['RA4DRAWJPOWO'], filtered_df['RA1PRAGE'])\n",
    "print(\"Spearman's correlation coefficient for JP vs AGE:\", round(corr, 3))\n",
    "\n",
    "#JP vs BMI\n",
    "corr, p_value = spearmanr(filtered_df['RA4DRAWJPOWO'], filtered_df['RA4PBMI'])\n",
    "print(\"Spearman's correlation coefficient for JP vs BMI:\", round(corr, 3))\n",
    "\n",
    "#JP vs HGS\n",
    "corr, p_value = spearmanr(filtered_df['RA4DRAWJPOWO'], filtered_df['RA4IMaxGrip'])\n",
    "print(\"Spearman's correlation coefficient for JP vs HGS:\", round(corr, 3))\n"
   ]
  },
  {
   "cell_type": "code",
   "execution_count": 15,
   "id": "3baf9152",
   "metadata": {},
   "outputs": [
    {
     "name": "stdout",
     "output_type": "stream",
     "text": [
      "Spearman's correlation coefficient for ALM vs AGE: -0.104\n",
      "Spearman's correlation coefficient for ALM vs BMI: 0.542\n",
      "Spearman's correlation coefficient for ALM vs HGS: 0.497\n",
      "Spearman's correlation coefficient for ALM vs JP: 0.742\n"
     ]
    }
   ],
   "source": [
    "#ALM vs Age\n",
    "corr, p_value = spearmanr(filtered_df['RA4IALM'], filtered_df['RA1PRAGE'])\n",
    "print(\"Spearman's correlation coefficient for ALM vs AGE:\", round(corr, 3))\n",
    "\n",
    "#ALM vs BMI\n",
    "corr, p_value = spearmanr(filtered_df['RA4IALM'], filtered_df['RA4PBMI'])\n",
    "print(\"Spearman's correlation coefficient for ALM vs BMI:\", round(corr, 3))\n",
    "\n",
    "#ALM vs HGS\n",
    "corr, p_value = spearmanr(filtered_df['RA4IALM'], filtered_df['RA4IMaxGrip'])\n",
    "print(\"Spearman's correlation coefficient for ALM vs HGS:\", round(corr, 3))\n",
    "\n",
    "#ALM vs JP\n",
    "corr, p_value = spearmanr(filtered_df['RA4IALM'], filtered_df['RA4DRAWJPOWO'])\n",
    "print(\"Spearman's correlation coefficient for ALM vs JP:\", round(corr, 3))\n"
   ]
  },
  {
   "cell_type": "code",
   "execution_count": 16,
   "id": "13ed346e",
   "metadata": {},
   "outputs": [
    {
     "name": "stdout",
     "output_type": "stream",
     "text": [
      "Spearman's correlation coefficient for ALMbyHt2 vs AGE: -0.09\n",
      "Spearman's correlation coefficient for ALMbyHt2 vs BMI: 0.76\n",
      "Spearman's correlation coefficient for ALMbyHt2 vs HGS: 0.284\n",
      "Spearman's correlation coefficient for ALMbyHt2 vs JP: 0.602\n"
     ]
    }
   ],
   "source": [
    "#ALM/Ht2 vs Age\n",
    "corr, p_value = spearmanr(filtered_df['RA4IALMbyHt2'], filtered_df['RA1PRAGE'])\n",
    "print(\"Spearman's correlation coefficient for ALMbyHt2 vs AGE:\", round(corr, 3))\n",
    "\n",
    "#ALM/Ht2 vs BMI\n",
    "corr, p_value = spearmanr(filtered_df['RA4IALMbyHt2'], filtered_df['RA4PBMI'])\n",
    "print(\"Spearman's correlation coefficient for ALMbyHt2 vs BMI:\", round(corr, 3))\n",
    "\n",
    "#ALM/Ht2 vs HGS\n",
    "corr, p_value = spearmanr(filtered_df['RA4IALMbyHt2'], filtered_df['RA4IMaxGrip'])\n",
    "print(\"Spearman's correlation coefficient for ALMbyHt2 vs HGS:\", round(corr, 3))\n",
    "\n",
    "#ALM/Ht2 vs JP\n",
    "corr, p_value = spearmanr(filtered_df['RA4IALMbyHt2'], filtered_df['RA4DRAWJPOWO'])\n",
    "print(\"Spearman's correlation coefficient for ALMbyHt2 vs JP:\", round(corr, 3))\n"
   ]
  },
  {
   "cell_type": "code",
   "execution_count": 17,
   "id": "5c2dcaa0",
   "metadata": {},
   "outputs": [
    {
     "name": "stdout",
     "output_type": "stream",
     "text": [
      "Spearman's correlation coefficient for ALM/BMI vs AGE: -0.139\n",
      "Spearman's correlation coefficient for ALM/BMI vs BMI: -0.373\n",
      "Spearman's correlation coefficient for ALM/BMI vs HGS: 0.626\n",
      "Spearman's correlation coefficient for ALM/BMI vs JP: 0.646\n"
     ]
    }
   ],
   "source": [
    "#ALM/BMI vs Age\n",
    "corr, p_value = spearmanr(filtered_df['RA4IALMbyBMI'], filtered_df['RA1PRAGE'])\n",
    "print(\"Spearman's correlation coefficient for ALM/BMI vs AGE:\", round(corr, 3))\n",
    "\n",
    "#ALM/BMI vs BMI\n",
    "corr, p_value = spearmanr(filtered_df['RA4IALMbyBMI'], filtered_df['RA4PBMI'])\n",
    "print(\"Spearman's correlation coefficient for ALM/BMI vs BMI:\", round(corr, 3))\n",
    "\n",
    "#ALM/BMI vs HGS\n",
    "corr, p_value = spearmanr(filtered_df['RA4IALMbyBMI'], filtered_df['RA4IMaxGrip'])\n",
    "print(\"Spearman's correlation coefficient for ALM/BMI vs HGS:\", round(corr, 3))\n",
    "\n",
    "#ALM/BMI vs JP\n",
    "corr, p_value = spearmanr(filtered_df['RA4IALMbyBMI'], filtered_df['RA4DRAWJPOWO'])\n",
    "print(\"Spearman's correlation coefficient for ALM/BMI vs JP:\", round(corr, 3))\n"
   ]
  },
  {
   "cell_type": "code",
   "execution_count": 18,
   "id": "d19501ba",
   "metadata": {},
   "outputs": [
    {
     "name": "stdout",
     "output_type": "stream",
     "text": [
      "Spearman's correlation coefficient for (E/I)w vs AGE: 0.246\n",
      "Spearman's correlation coefficient for (E/I)w vs BMI: 0.903\n",
      "Spearman's correlation coefficient for (E/I)w vs HGS: -0.19\n",
      "Spearman's correlation coefficient for (E/I)w vs JP: -0.079\n"
     ]
    }
   ],
   "source": [
    "#(E/I)w vs Age\n",
    "corr, p_value = spearmanr(filtered_df['RA4IcorE2I'], filtered_df['RA1PRAGE'])\n",
    "print(\"Spearman's correlation coefficient for (E/I)w vs AGE:\", round(corr, 3))\n",
    "\n",
    "#(E/I)w  vs BMI\n",
    "corr, p_value = spearmanr(filtered_df['RA4IcorE2I'], filtered_df['RA4PBMI'])\n",
    "print(\"Spearman's correlation coefficient for (E/I)w vs BMI:\", round(corr, 3))\n",
    "\n",
    "#(E/I)w  vs HGS\n",
    "corr, p_value = spearmanr(filtered_df['RA4IcorE2I'], filtered_df['RA4IMaxGrip'])\n",
    "print(\"Spearman's correlation coefficient for (E/I)w vs HGS:\", round(corr, 3))\n",
    "\n",
    "#(E/I)w vs JP\n",
    "corr, p_value = spearmanr(filtered_df['RA4IcorE2I'], filtered_df['RA4DRAWJPOWO'])\n",
    "print(\"Spearman's correlation coefficient for (E/I)w vs JP:\", round(corr, 3))\n"
   ]
  },
  {
   "cell_type": "code",
   "execution_count": 19,
   "id": "d7bdd404",
   "metadata": {},
   "outputs": [
    {
     "name": "stdout",
     "output_type": "stream",
     "text": [
      "Spearman's correlation coefficient for ALM/(E/I)w vs AGE: -0.264\n",
      "Spearman's correlation coefficient for ALM/(E/I)w vs BMI: 0.587\n",
      "Spearman's correlation coefficient for ALM/(E/I)w vs HGS: 0.377\n",
      "Spearman's correlation coefficient for ALM/(E/I)w vs JP: 0.763\n"
     ]
    }
   ],
   "source": [
    "#ALM/(E/I)w vs Age\n",
    "corr, p_value = spearmanr(filtered_df['RA4IALMbyE2I'], filtered_df['RA1PRAGE'])\n",
    "print(\"Spearman's correlation coefficient for ALM/(E/I)w vs AGE:\", round(corr, 3))\n",
    "\n",
    "#ALM/(E/I)w  vs BMI\n",
    "corr, p_value = spearmanr(filtered_df['RA4IALMbyE2I'], filtered_df['RA4PBMI'])\n",
    "print(\"Spearman's correlation coefficient for ALM/(E/I)w vs BMI:\", round(corr, 3))\n",
    "\n",
    "#ALM/(E/I)w  vs HGS\n",
    "corr, p_value = spearmanr(filtered_df['RA4IALMbyE2I'], filtered_df['RA4IMaxGrip'])\n",
    "print(\"Spearman's correlation coefficient for ALM/(E/I)w vs HGS:\", round(corr, 3))\n",
    "\n",
    "#ALM/(E/I)w vs JP\n",
    "corr, p_value = spearmanr(filtered_df['RA4IALMbyE2I'], filtered_df['RA4DRAWJPOWO'])\n",
    "print(\"Spearman's correlation coefficient for ALM/(E/I)w vs JP:\", round(corr, 3))\n"
   ]
  },
  {
   "cell_type": "code",
   "execution_count": 20,
   "id": "9ac775be",
   "metadata": {},
   "outputs": [
    {
     "name": "stdout",
     "output_type": "stream",
     "text": [
      "Spearman's correlation coefficient for LLM vs AGE: -0.121\n",
      "Spearman's correlation coefficient for LLM vs BMI: 0.581\n",
      "Spearman's correlation coefficient for LLM vs HGS: 0.445\n",
      "Spearman's correlation coefficient for LLM vs JP: 0.718\n"
     ]
    }
   ],
   "source": [
    "#LLM vs Age\n",
    "corr, p_value = spearmanr(filtered_df['RA4ILLM'], filtered_df['RA1PRAGE'])\n",
    "print(\"Spearman's correlation coefficient for LLM vs AGE:\", round(corr, 3))\n",
    "\n",
    "#LLM vs BMI\n",
    "corr, p_value = spearmanr(filtered_df['RA4ILLM'], filtered_df['RA4PBMI'])\n",
    "print(\"Spearman's correlation coefficient for LLM vs BMI:\", round(corr, 3))\n",
    "\n",
    "#LLM vs HGS\n",
    "corr, p_value = spearmanr(filtered_df['RA4ILLM'], filtered_df['RA4IMaxGrip'])\n",
    "print(\"Spearman's correlation coefficient for LLM vs HGS:\", round(corr, 3))\n",
    "\n",
    "#LLM vs JP\n",
    "corr, p_value = spearmanr(filtered_df['RA4ILLM'], filtered_df['RA4DRAWJPOWO'])\n",
    "print(\"Spearman's correlation coefficient for LLM vs JP:\", round(corr, 3))\n"
   ]
  },
  {
   "cell_type": "code",
   "execution_count": 21,
   "id": "7eedd77d",
   "metadata": {},
   "outputs": [
    {
     "name": "stdout",
     "output_type": "stream",
     "text": [
      "Spearman's correlation coefficient for (E/I)l vs AGE: 0.559\n",
      "Spearman's correlation coefficient for (E/I)l vs BMI: 0.024\n",
      "Spearman's correlation coefficient for (E/I)l vs HGS: -0.176\n",
      "Spearman's correlation coefficient for (E/I)l vs JP: -0.551\n"
     ]
    }
   ],
   "source": [
    "#(E/I)l vs Age (THERE ARE NA VALUES)\n",
    "corr, p_value = spearmanr(filtered_df['RA4ILegE2I'], filtered_df['RA1PRAGE'], nan_policy='omit')\n",
    "print(\"Spearman's correlation coefficient for (E/I)l vs AGE:\", round(corr, 3))\n",
    "\n",
    "#(E/I)l  vs BMI\n",
    "corr, p_value = spearmanr(filtered_df['RA4ILegE2I'], filtered_df['RA4PBMI'], nan_policy='omit')\n",
    "print(\"Spearman's correlation coefficient for (E/I)l vs BMI:\", round(corr, 3))\n",
    "\n",
    "#(E/I)l  vs HGS\n",
    "corr, p_value = spearmanr(filtered_df['RA4ILegE2I'], filtered_df['RA4IMaxGrip'], nan_policy='omit')\n",
    "print(\"Spearman's correlation coefficient for (E/I)l vs HGS:\", round(corr, 3))\n",
    "\n",
    "#(E/I)l vs JP\n",
    "corr, p_value = spearmanr(filtered_df['RA4ILegE2I'], filtered_df['RA4DRAWJPOWO'], nan_policy='omit')\n",
    "print(\"Spearman's correlation coefficient for (E/I)l vs JP:\", round(corr, 3))\n"
   ]
  },
  {
   "cell_type": "code",
   "execution_count": 22,
   "id": "3aa9668f",
   "metadata": {},
   "outputs": [
    {
     "name": "stdout",
     "output_type": "stream",
     "text": [
      "Spearman's correlation coefficient for LLM/(E/I)l vs AGE: -0.415\n",
      "Spearman's correlation coefficient for LLM/(E/I)l vs BMI: 0.389\n",
      "Spearman's correlation coefficient for LLM/(E/I)l vs HGS: 0.394\n",
      "Spearman's correlation coefficient for LLM/(E/I)l vs JP: 0.836\n"
     ]
    }
   ],
   "source": [
    "#LLM/(E/I)l vs Age (THERE ARE NA VALUES)\n",
    "corr, p_value = spearmanr(filtered_df['RA4ILLMbyLE2Icor'], filtered_df['RA1PRAGE'], nan_policy='omit')\n",
    "print(\"Spearman's correlation coefficient for LLM/(E/I)l vs AGE:\", round(corr, 3))\n",
    "\n",
    "#LLM/(E/I)l vs BMI\n",
    "corr, p_value = spearmanr(filtered_df['RA4ILLMbyLE2Icor'], filtered_df['RA4PBMI'], nan_policy='omit')\n",
    "print(\"Spearman's correlation coefficient for LLM/(E/I)l vs BMI:\", round(corr, 3))\n",
    "\n",
    "#LLM/(E/I)l vs HGS\n",
    "corr, p_value = spearmanr(filtered_df['RA4ILLMbyLE2Icor'], filtered_df['RA4IMaxGrip'], nan_policy='omit')\n",
    "print(\"Spearman's correlation coefficient for LLM/(E/I)l vs HGS:\", round(corr, 3))\n",
    "\n",
    "#LLM/(E/I)l vs JP\n",
    "corr, p_value = spearmanr(filtered_df['RA4ILLMbyLE2Icor'], filtered_df['RA4DRAWJPOWO'], nan_policy='omit')\n",
    "print(\"Spearman's correlation coefficient for LLM/(E/I)l vs JP:\", round(corr, 3))\n"
   ]
  }
 ],
 "metadata": {
  "kernelspec": {
   "display_name": "Python 3 (ipykernel)",
   "language": "python",
   "name": "python3"
  },
  "language_info": {
   "codemirror_mode": {
    "name": "ipython",
    "version": 3
   },
   "file_extension": ".py",
   "mimetype": "text/x-python",
   "name": "python",
   "nbconvert_exporter": "python",
   "pygments_lexer": "ipython3",
   "version": "3.9.12"
  }
 },
 "nbformat": 4,
 "nbformat_minor": 5
}
