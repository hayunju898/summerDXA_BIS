{
 "cells": [
  {
   "cell_type": "code",
   "execution_count": 50,
   "id": "bfd4c5fd",
   "metadata": {},
   "outputs": [],
   "source": [
    "import pandas as pd\n",
    "from scipy.stats import spearmanr\n",
    "\n",
    "data = pd.read_csv('/Users/yunjuha/Desktop/SROP/DXA_BIS_Project/2023-06-23_DXA_BIS_data.csv')\n",
    "\n",
    "filtered_df = data.loc[:, ['RA1PRAGE', 'RA4PBMI', 'RA4IMaxGrip', 'RA4DRAWJPOWO', 'RA4IALM', 'RA4IALMbyHt2', 'RA4IALMbyBMI', 'RA4IcorE2I', 'RA4IALMbyE2I', 'RA4ILLM', 'RA4ILegE2I', 'RA4ILLMbyLE2Icor']]\n"
   ]
  },
  {
   "cell_type": "code",
   "execution_count": 51,
   "id": "7d579340",
   "metadata": {},
   "outputs": [
    {
     "name": "stdout",
     "output_type": "stream",
     "text": [
      "Spearman's correlation coefficient for AGE vs BMI: 0.05960876147033178\n",
      "Spearman's correlation coefficient for AGE vs HGS: 0.0018861077810636002\n",
      "Spearman's correlation coefficient for AGE vs JP: -0.4268347394612168\n"
     ]
    }
   ],
   "source": [
    "#compute Spearman's rank correlation\n",
    "corr, p_values = spearmanr(filtered_df)\n",
    "\n",
    "# Print the correlation matrix\n",
    "#print(corr_matrix)\n",
    "\n",
    "#AGE vs BMI\n",
    "corr, p_value = spearmanr(filtered_df['RA1PRAGE'], filtered_df['RA4PBMI'])\n",
    "print(\"Spearman's correlation coefficient for AGE vs BMI:\", corr)\n",
    "\n",
    "#AGE vs HGS \n",
    "corr, p_value = spearmanr(filtered_df['RA1PRAGE'], filtered_df['RA4IMaxGrip'])\n",
    "print(\"Spearman's correlation coefficient for AGE vs HGS:\", corr)\n",
    "\n",
    "#AGE vs JP\n",
    "corr, p_value = spearmanr(filtered_df['RA1PRAGE'], filtered_df['RA4DRAWJPOWO'])\n",
    "print(\"Spearman's correlation coefficient for AGE vs JP:\", corr)\n"
   ]
  },
  {
   "cell_type": "code",
   "execution_count": 52,
   "id": "9c54b7ac",
   "metadata": {},
   "outputs": [
    {
     "name": "stdout",
     "output_type": "stream",
     "text": [
      "Spearman's correlation coefficient for BMI vs AGE: 0.059608761470331784\n",
      "Spearman's correlation coefficient for BMI vs HGS: -0.08161704250946109\n",
      "Spearman's correlation coefficient for BMI vs JP: 0.1706767415795376\n"
     ]
    }
   ],
   "source": [
    "#BMI vs Age\n",
    "corr, p_value = spearmanr(filtered_df['RA4PBMI'], filtered_df['RA1PRAGE'])\n",
    "print(\"Spearman's correlation coefficient for BMI vs AGE:\", corr)\n",
    "\n",
    "#BMI vs HGS\n",
    "corr, p_value = spearmanr(filtered_df['RA4PBMI'], filtered_df['RA4IMaxGrip'])\n",
    "print(\"Spearman's correlation coefficient for BMI vs HGS:\", corr)\n",
    "\n",
    "#BMI vs JP\n",
    "corr, p_value = spearmanr(filtered_df['RA4PBMI'], filtered_df['RA4DRAWJPOWO'])\n",
    "print(\"Spearman's correlation coefficient for BMI vs JP:\", corr)\n"
   ]
  },
  {
   "cell_type": "code",
   "execution_count": 29,
   "id": "de258709",
   "metadata": {},
   "outputs": [
    {
     "name": "stdout",
     "output_type": "stream",
     "text": [
      "Spearman's correlation coefficient for HGS vs AGE: 0.0018861077810636004\n",
      "Spearman's correlation coefficient for HGS vs BMI: -0.08161704250946109\n",
      "Spearman's correlation coefficient for HGS vs JP: 0.5063989667577486\n"
     ]
    }
   ],
   "source": [
    "#HGS vs Age\n",
    "corr, p_value = spearmanr(filtered_df['RA4IMaxGrip'], filtered_df['RA1PRAGE'])\n",
    "print(\"Spearman's correlation coefficient for HGS vs AGE:\", corr)\n",
    "\n",
    "#HGS vs BMI\n",
    "corr, p_value = spearmanr(filtered_df['RA4IMaxGrip'], filtered_df['RA4PBMI'])\n",
    "print(\"Spearman's correlation coefficient for HGS vs BMI:\", corr)\n",
    "\n",
    "#HGS vs JP\n",
    "corr, p_value = spearmanr(filtered_df['RA4IMaxGrip'], filtered_df['RA4DRAWJPOWO'])\n",
    "print(\"Spearman's correlation coefficient for HGS vs JP:\", corr)\n"
   ]
  },
  {
   "cell_type": "code",
   "execution_count": 31,
   "id": "6ad9cb54",
   "metadata": {},
   "outputs": [
    {
     "name": "stdout",
     "output_type": "stream",
     "text": [
      "Spearman's correlation coefficient for JP vs AGE: -0.4268347394612168\n",
      "Spearman's correlation coefficient for JP vs BMI: 0.1706767415795376\n",
      "Spearman's correlation coefficient for JP vs HGS: 0.5063989667577486\n"
     ]
    }
   ],
   "source": [
    "#JP vs Age\n",
    "corr, p_value = spearmanr(filtered_df['RA4DRAWJPOWO'], filtered_df['RA1PRAGE'])\n",
    "print(\"Spearman's correlation coefficient for JP vs AGE:\", corr)\n",
    "\n",
    "#JP vs BMI\n",
    "corr, p_value = spearmanr(filtered_df['RA4DRAWJPOWO'], filtered_df['RA4PBMI'])\n",
    "print(\"Spearman's correlation coefficient for JP vs BMI:\", corr)\n",
    "\n",
    "#JP vs HGS\n",
    "corr, p_value = spearmanr(filtered_df['RA4DRAWJPOWO'], filtered_df['RA4IMaxGrip'])\n",
    "print(\"Spearman's correlation coefficient for JP vs HGS:\", corr)\n"
   ]
  },
  {
   "cell_type": "code",
   "execution_count": 33,
   "id": "3baf9152",
   "metadata": {},
   "outputs": [
    {
     "name": "stdout",
     "output_type": "stream",
     "text": [
      "Spearman's correlation coefficient for ALM vs AGE: -0.10366586193670557\n",
      "Spearman's correlation coefficient for ALM vs BMI: 0.541754437933008\n",
      "Spearman's correlation coefficient for ALM vs HGS: 0.4970887454654955\n",
      "Spearman's correlation coefficient for ALM vs JP: 0.7419905968167562\n"
     ]
    }
   ],
   "source": [
    "#ALM vs Age\n",
    "corr, p_value = spearmanr(filtered_df['RA4IALM'], filtered_df['RA1PRAGE'])\n",
    "print(\"Spearman's correlation coefficient for ALM vs AGE:\", corr)\n",
    "\n",
    "#ALM vs BMI\n",
    "corr, p_value = spearmanr(filtered_df['RA4IALM'], filtered_df['RA4PBMI'])\n",
    "print(\"Spearman's correlation coefficient for ALM vs BMI:\", corr)\n",
    "\n",
    "#ALM vs HGS\n",
    "corr, p_value = spearmanr(filtered_df['RA4IALM'], filtered_df['RA4IMaxGrip'])\n",
    "print(\"Spearman's correlation coefficient for ALM vs HGS:\", corr)\n",
    "\n",
    "#ALM vs JP\n",
    "corr, p_value = spearmanr(filtered_df['RA4IALM'], filtered_df['RA4DRAWJPOWO'])\n",
    "print(\"Spearman's correlation coefficient for ALM vs JP:\", corr)\n"
   ]
  },
  {
   "cell_type": "code",
   "execution_count": 35,
   "id": "13ed346e",
   "metadata": {},
   "outputs": [
    {
     "name": "stdout",
     "output_type": "stream",
     "text": [
      "Spearman's correlation coefficient for ALMbyHt2 vs AGE: -0.08956434099269658\n",
      "Spearman's correlation coefficient for ALMbyHt2 vs BMI: 0.7598482806960374\n",
      "Spearman's correlation coefficient for ALMbyHt2 vs HGS: 0.28391575877586517\n",
      "Spearman's correlation coefficient for ALMbyHt2 vs JP: 0.6018342058418791\n"
     ]
    }
   ],
   "source": [
    "#ALM/Ht2 vs Age\n",
    "corr, p_value = spearmanr(filtered_df['RA4IALMbyHt2'], filtered_df['RA1PRAGE'])\n",
    "print(\"Spearman's correlation coefficient for ALMbyHt2 vs AGE:\", corr)\n",
    "\n",
    "#ALM/Ht2 vs BMI\n",
    "corr, p_value = spearmanr(filtered_df['RA4IALMbyHt2'], filtered_df['RA4PBMI'])\n",
    "print(\"Spearman's correlation coefficient for ALMbyHt2 vs BMI:\", corr)\n",
    "\n",
    "#ALM/Ht2 vs HGS\n",
    "corr, p_value = spearmanr(filtered_df['RA4IALMbyHt2'], filtered_df['RA4IMaxGrip'])\n",
    "print(\"Spearman's correlation coefficient for ALMbyHt2 vs HGS:\", corr)\n",
    "\n",
    "#ALM/Ht2 vs JP\n",
    "corr, p_value = spearmanr(filtered_df['RA4IALMbyHt2'], filtered_df['RA4DRAWJPOWO'])\n",
    "print(\"Spearman's correlation coefficient for ALMbyHt2 vs JP:\", corr)\n"
   ]
  },
  {
   "cell_type": "code",
   "execution_count": 37,
   "id": "5c2dcaa0",
   "metadata": {},
   "outputs": [
    {
     "name": "stdout",
     "output_type": "stream",
     "text": [
      "Spearman's correlation coefficient for ALM/BMI vs AGE: -0.1386952936938201\n",
      "Spearman's correlation coefficient for ALM/BMI vs BMI: -0.3727576001956826\n",
      "Spearman's correlation coefficient for ALM/BMI vs HGS: 0.6260871832917679\n",
      "Spearman's correlation coefficient for ALM/BMI vs JP: 0.6462862390906376\n"
     ]
    }
   ],
   "source": [
    "#ALM/BMI vs Age\n",
    "corr, p_value = spearmanr(filtered_df['RA4IALMbyBMI'], filtered_df['RA1PRAGE'])\n",
    "print(\"Spearman's correlation coefficient for ALM/BMI vs AGE:\", corr)\n",
    "\n",
    "#ALM/BMI vs BMI\n",
    "corr, p_value = spearmanr(filtered_df['RA4IALMbyBMI'], filtered_df['RA4PBMI'])\n",
    "print(\"Spearman's correlation coefficient for ALM/BMI vs BMI:\", corr)\n",
    "\n",
    "#ALM/BMI vs HGS\n",
    "corr, p_value = spearmanr(filtered_df['RA4IALMbyBMI'], filtered_df['RA4IMaxGrip'])\n",
    "print(\"Spearman's correlation coefficient for ALM/BMI vs HGS:\", corr)\n",
    "\n",
    "#ALM/BMI vs JP\n",
    "corr, p_value = spearmanr(filtered_df['RA4IALMbyBMI'], filtered_df['RA4DRAWJPOWO'])\n",
    "print(\"Spearman's correlation coefficient for ALM/BMI vs JP:\", corr)\n"
   ]
  },
  {
   "cell_type": "code",
   "execution_count": 40,
   "id": "d19501ba",
   "metadata": {},
   "outputs": [
    {
     "name": "stdout",
     "output_type": "stream",
     "text": [
      "Spearman's correlation coefficient for (E/I)w  vs AGE: 0.24579966848803692\n",
      "Spearman's correlation coefficient for (E/I)w  vs BMI: 0.9025940100975304\n",
      "Spearman's correlation coefficient for (E/I)w  vs HGS: -0.1902064619590701\n",
      "Spearman's correlation coefficient for (E/I)w  vs JP: -0.07872242071434152\n"
     ]
    }
   ],
   "source": [
    "#(E/I)w vs Age\n",
    "corr, p_value = spearmanr(filtered_df['RA4IcorE2I'], filtered_df['RA1PRAGE'])\n",
    "print(\"Spearman's correlation coefficient for (E/I)w vs AGE:\", corr)\n",
    "\n",
    "#(E/I)w  vs BMI\n",
    "corr, p_value = spearmanr(filtered_df['RA4IcorE2I'], filtered_df['RA4PBMI'])\n",
    "print(\"Spearman's correlation coefficient for (E/I)w vs BMI:\", corr)\n",
    "\n",
    "#(E/I)w  vs HGS\n",
    "corr, p_value = spearmanr(filtered_df['RA4IcorE2I'], filtered_df['RA4IMaxGrip'])\n",
    "print(\"Spearman's correlation coefficient for (E/I)w vs HGS:\", corr)\n",
    "\n",
    "#(E/I)w vs JP\n",
    "corr, p_value = spearmanr(filtered_df['RA4IcorE2I'], filtered_df['RA4DRAWJPOWO'])\n",
    "print(\"Spearman's correlation coefficient for (E/I)w vs JP:\", corr)\n"
   ]
  },
  {
   "cell_type": "code",
   "execution_count": 48,
   "id": "d7bdd404",
   "metadata": {},
   "outputs": [
    {
     "name": "stdout",
     "output_type": "stream",
     "text": [
      "Spearman's correlation coefficient for ALM/(E/I)w vs AGE: -0.26430546338365307\n",
      "Spearman's correlation coefficient for ALM/(E/I)w vs BMI: 0.5868876183300465\n",
      "Spearman's correlation coefficient for ALM/(E/I)w vs HGS: 0.37694136212989227\n",
      "Spearman's correlation coefficient for ALM/(E/I)w vs JP: 0.7631595374746809\n"
     ]
    }
   ],
   "source": [
    "#ALM/(E/I)w vs Age\n",
    "corr, p_value = spearmanr(filtered_df['RA4IALMbyE2I'], filtered_df['RA1PRAGE'])\n",
    "print(\"Spearman's correlation coefficient for ALM/(E/I)w vs AGE:\", corr)\n",
    "\n",
    "#ALM/(E/I)w  vs BMI\n",
    "corr, p_value = spearmanr(filtered_df['RA4IALMbyE2I'], filtered_df['RA4PBMI'])\n",
    "print(\"Spearman's correlation coefficient for ALM/(E/I)w vs BMI:\", corr)\n",
    "\n",
    "#ALM/(E/I)w  vs HGS\n",
    "corr, p_value = spearmanr(filtered_df['RA4IALMbyE2I'], filtered_df['RA4IMaxGrip'])\n",
    "print(\"Spearman's correlation coefficient for ALM/(E/I)w vs HGS:\", corr)\n",
    "\n",
    "#ALM/(E/I)w vs JP\n",
    "corr, p_value = spearmanr(filtered_df['RA4IALMbyE2I'], filtered_df['RA4DRAWJPOWO'])\n",
    "print(\"Spearman's correlation coefficient for ALM/(E/I)w vs JP:\", corr)\n"
   ]
  },
  {
   "cell_type": "code",
   "execution_count": 44,
   "id": "9ac775be",
   "metadata": {},
   "outputs": [
    {
     "name": "stdout",
     "output_type": "stream",
     "text": [
      "Spearman's correlation coefficient for LLM vs AGE: -0.12131837851831921\n",
      "Spearman's correlation coefficient for LLM vs BMI: 0.58061279757467\n",
      "Spearman's correlation coefficient for LLM vs HGS: 0.444781783019282\n",
      "Spearman's correlation coefficient for LLM vs JP: 0.7179252526950467\n"
     ]
    }
   ],
   "source": [
    "#LLM vs Age\n",
    "corr, p_value = spearmanr(filtered_df['RA4ILLM'], filtered_df['RA1PRAGE'])\n",
    "print(\"Spearman's correlation coefficient for LLM vs AGE:\", corr)\n",
    "\n",
    "#LLM vs BMI\n",
    "corr, p_value = spearmanr(filtered_df['RA4ILLM'], filtered_df['RA4PBMI'])\n",
    "print(\"Spearman's correlation coefficient for LLM vs BMI:\", corr)\n",
    "\n",
    "#LLM vs HGS\n",
    "corr, p_value = spearmanr(filtered_df['RA4ILLM'], filtered_df['RA4IMaxGrip'])\n",
    "print(\"Spearman's correlation coefficient for LLM vs HGS:\", corr)\n",
    "\n",
    "#LLM vs JP\n",
    "corr, p_value = spearmanr(filtered_df['RA4ILLM'], filtered_df['RA4DRAWJPOWO'])\n",
    "print(\"Spearman's correlation coefficient for LLM vs JP:\", corr)\n"
   ]
  },
  {
   "cell_type": "code",
   "execution_count": 55,
   "id": "7eedd77d",
   "metadata": {},
   "outputs": [
    {
     "name": "stdout",
     "output_type": "stream",
     "text": [
      "Spearman's correlation coefficient for (E/I)l vs AGE: 0.5591419290746495\n",
      "Spearman's correlation coefficient for (E/I)l vs BMI: 0.023563838514216905\n",
      "Spearman's correlation coefficient for (E/I)l vs HGS: -0.175932266148705\n",
      "Spearman's correlation coefficient for (E/I)l vs JP: -0.5511009527513812\n"
     ]
    }
   ],
   "source": [
    "#(E/I)l vs Age (THERE ARE NA VALUES)\n",
    "corr, p_value = spearmanr(filtered_df['RA4ILegE2I'], filtered_df['RA1PRAGE'], nan_policy='omit')\n",
    "print(\"Spearman's correlation coefficient for (E/I)l vs AGE:\", corr)\n",
    "\n",
    "#(E/I)l  vs BMI\n",
    "corr, p_value = spearmanr(filtered_df['RA4ILegE2I'], filtered_df['RA4PBMI'], nan_policy='omit')\n",
    "print(\"Spearman's correlation coefficient for (E/I)l vs BMI:\", corr)\n",
    "\n",
    "#(E/I)l  vs HGS\n",
    "corr, p_value = spearmanr(filtered_df['RA4ILegE2I'], filtered_df['RA4IMaxGrip'], nan_policy='omit')\n",
    "print(\"Spearman's correlation coefficient for (E/I)l vs HGS:\", corr)\n",
    "\n",
    "#(E/I)l vs JP\n",
    "corr, p_value = spearmanr(filtered_df['RA4ILegE2I'], filtered_df['RA4DRAWJPOWO'], nan_policy='omit')\n",
    "print(\"Spearman's correlation coefficient for (E/I)l vs JP:\", corr)\n"
   ]
  },
  {
   "cell_type": "code",
   "execution_count": 56,
   "id": "3aa9668f",
   "metadata": {},
   "outputs": [
    {
     "name": "stdout",
     "output_type": "stream",
     "text": [
      "Spearman's correlation coefficient for LLM/(E/I)l vs AGE: -0.41505875039914797\n",
      "Spearman's correlation coefficient for LLM/(E/I)l vs BMI: 0.3890980462296729\n",
      "Spearman's correlation coefficient for LLM/(E/I)l vs HGS: 0.3944984130194315\n",
      "Spearman's correlation coefficient for LLM/(E/I)l vs JP: 0.8364445721474129\n"
     ]
    }
   ],
   "source": [
    "#LLM/(E/I)l vs Age (THERE ARE NA VALUES)\n",
    "corr, p_value = spearmanr(filtered_df['RA4ILLMbyLE2Icor'], filtered_df['RA1PRAGE'], nan_policy='omit')\n",
    "print(\"Spearman's correlation coefficient for LLM/(E/I)l vs AGE:\", corr)\n",
    "\n",
    "#LLM/(E/I)l vs BMI\n",
    "corr, p_value = spearmanr(filtered_df['RA4ILLMbyLE2Icor'], filtered_df['RA4PBMI'], nan_policy='omit')\n",
    "print(\"Spearman's correlation coefficient for LLM/(E/I)l vs BMI:\", corr)\n",
    "\n",
    "#LLM/(E/I)l vs HGS\n",
    "corr, p_value = spearmanr(filtered_df['RA4ILLMbyLE2Icor'], filtered_df['RA4IMaxGrip'], nan_policy='omit')\n",
    "print(\"Spearman's correlation coefficient for LLM/(E/I)l vs HGS:\", corr)\n",
    "\n",
    "#LLM/(E/I)l vs JP\n",
    "corr, p_value = spearmanr(filtered_df['RA4ILLMbyLE2Icor'], filtered_df['RA4DRAWJPOWO'], nan_policy='omit')\n",
    "print(\"Spearman's correlation coefficient for LLM/(E/I)l vs JP:\", corr)\n"
   ]
  }
 ],
 "metadata": {
  "kernelspec": {
   "display_name": "Python 3 (ipykernel)",
   "language": "python",
   "name": "python3"
  },
  "language_info": {
   "codemirror_mode": {
    "name": "ipython",
    "version": 3
   },
   "file_extension": ".py",
   "mimetype": "text/x-python",
   "name": "python",
   "nbconvert_exporter": "python",
   "pygments_lexer": "ipython3",
   "version": "3.10.9"
  }
 },
 "nbformat": 4,
 "nbformat_minor": 5
}
