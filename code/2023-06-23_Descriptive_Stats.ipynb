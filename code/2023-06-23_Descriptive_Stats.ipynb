{
 "cells": [
  {
   "cell_type": "code",
   "execution_count": 5,
   "id": "3fd1ba17",
   "metadata": {},
   "outputs": [
    {
     "name": "stdout",
     "output_type": "stream",
     "text": [
      "{'MRID': 'MIDUS REFRESHER ID', 'RA4DTBLMkg': 'DXA LST (Lean Soft Tissue)', 'RA4IALM': 'DXA ALM', 'RA4IALMbyHt2': 'ALM divided by height squared', 'RA4IMECF': 'BIS ECF', 'RA4IMICF': 'BIS ICF', 'RA4IMTBW': 'BIS Total Body Water (ECF+ICF)', 'RA4IE2I': 'BIS ECF/ICF', 'RA4IECFbyTBW': 'BIS ECF/TBW', 'RA4IMFFM': 'BIS Fat Free Mass', 'RA4IALMbyE2I': 'MouseTrap ALM/(E/I)', 'RA4DRAWJPOWO': 'Jump power Max Power of 3 attempts', 'RA4IMaxGrip': 'Hand Grip Strength- Best of 3 with non dominant hand', 'RA1PRAGE': 'Age', 'RA1PRSEX': 'Sex', 'RA4P1A': 'Height (in cm)', 'RA4P1B': 'Weight (in kg)', 'RA4PBMI': 'BMI', 'RA4IBMICat': 'BMI Categories', 'RA1PF7A': 'Race', 'RA4IALMbyE2Icor': 'LM divided by corrected ECF to ICF ratio', 'RA4IALMbyWt': 'ALM divided by weight', 'RA4IALMbyBMI': 'ALM divided by BMI', 'RA4Iagecat': 'Age categories (set rather arbitrarily for roughly 1/4 of sample in each category)', 'RA4IRES0': 'R0, or R zero ; Resistance at Frequency zero (ohms), predicted whole body resistance at zero frequency', 'RA4IRESINF': 'R8, or R inf ; Resistance at Frequency infinity (ohms), predicted whole body resistance at an infinite frequency current', 'RA4IRESEXC': 'RECF ; Resistance at Frequency Extracellular (ohms), resistance of the extracellular fluid compartment in the body', 'RA4IRESINC': 'RICF; Resistance at Frequency Intracellular (ohms), resistance of the intracellular fluid compartment in the body', 'RA4IFCHAR': 'Fc ; Frequency character (kHz), Characteristic frequency, i.e. the current frequency where the reactance is maximum in the body', 'RA4IMCAP': 'Metabolic capacity (nF)The membrane capacitance of cells in the body', 'RA4IIMP5KHZ': 'Z5 (ohms) Whole body impedance from a 5kHz alternating current', 'RA4IIMP50KHZ': 'Z50 (ohms) Whole body impedance from a 50kHz alternating current', 'RA4IPH50': 'Phase angle at 50 (degrees), The phase angle and phase difference between the voltage cycle and the current cycle at a 50 kHz current', 'RA4IR50': 'R50 (ohms) Resistance of whole body fluids to the current at a frequency of 50kHZ', 'RA4IXC50': 'Xc50 (ohms) Reactance of cell membranes at 50 kHz current', 'RA4IIMP200KHZ': 'Z200 (ohms) Whole body impedance from a 200kHz alternating current', 'RA4ILLM': 'Leg lean mass', 'RA4ILLMbyLE2Icor': 'Leg Lean Mass divided by corrected ECF to ICF ratio', 'RA4IcorE2I': 'Corrected ECF to ICF Ratio', 'RA4ILegE2I': 'Leg specific E/I'}\n"
     ]
    }
   ],
   "source": [
    "import pandas as pd\n",
    "\n",
    "#loading data\n",
    "data = pd.read_csv('/Users/yunjuha/Desktop/SROP/DXA_BIS_Project/2023-06-23_DXA_BIS_data.csv')\n",
    "\n",
    "#creating dictionary (doesn't include the transformed variables)\n",
    "dxa_bis_dictionary = {\n",
    "    'MRID': 'MIDUS REFRESHER ID',\n",
    "    'RA4DTBLMkg': 'DXA LST (Lean Soft Tissue)', \n",
    "    'RA4IALM': 'DXA ALM',\n",
    "    'RA4IALMbyHt2': 'DXA ALM/ht**2',\n",
    "    'RA4IMECF': 'BIS ECF',\n",
    "    'RA4IMICF': 'BIS ICF', \n",
    "    'RA4IMTBW': 'BIS Total Body Water (ECF+ICF)',\n",
    "    'RA4IE2I': 'BIS ECF/ICF',\n",
    "    'RA4IECFbyTBW': 'BIS ECF/TBW',\n",
    "    'RA4IMFFM': 'BIS Fat Free Mass', \n",
    "    'RA4IALMbyE2I': 'MouseTrap ALM/(E/I)',\n",
    "    'RA4DRAWJPOWO': 'Jump power Max Power of 3 attempts',\n",
    "    'RA4IMaxGrip': 'Hand Grip Strength- Best of 3 with non dominant hand',\n",
    "    'RA1PRAGE': 'Age',\n",
    "    'RA1PRSEX': 'Sex',\n",
    "    'RA4P1A': 'Height (in cm)',\n",
    "    'RA4P1B': 'Weight (in kg)',\n",
    "    'RA4PBMI': 'BMI',\n",
    "    'RA4IBMICat': 'BMI Categories',\n",
    "    'RA1PF7A': 'Race',\n",
    "    'RA4IALMbyE2Icor': 'LM divided by corrected ECF to ICF ratio',\n",
    "    'RA4IALMbyHt2': 'ALM divided by height squared',\n",
    "    'RA4IALMbyWt': 'ALM divided by weight',\n",
    "    'RA4IALMbyBMI': 'ALM divided by BMI',\n",
    "    'RA4Iagecat': 'Age categories (set rather arbitrarily for roughly 1/4 of sample in each category)',\n",
    "    'RA4IRES0': 'R0, or R zero ; Resistance at Frequency zero (ohms), predicted whole body resistance at zero frequency',\n",
    "    'RA4IRESINF': 'R8, or R inf ; Resistance at Frequency infinity (ohms), predicted whole body resistance at an infinite frequency current',\n",
    "    'RA4IRESEXC': 'RECF ; Resistance at Frequency Extracellular (ohms), resistance of the extracellular fluid compartment in the body',\n",
    "    'RA4IRESINC': 'RICF; Resistance at Frequency Intracellular (ohms), resistance of the intracellular fluid compartment in the body',\n",
    "    'RA4IFCHAR': 'Fc ; Frequency character (kHz), Characteristic frequency, i.e. the current frequency where the reactance is maximum in the body',\n",
    "    'RA4IMCAP': 'Metabolic capacity (nF)The membrane capacitance of cells in the body',\n",
    "    'RA4IIMP5KHZ': 'Z5 (ohms) Whole body impedance from a 5kHz alternating current',\n",
    "    'RA4IIMP50KHZ': 'Z50 (ohms) Whole body impedance from a 50kHz alternating current',\n",
    "    'RA4IPH50': 'Phase angle at 50 (degrees), The phase angle and phase difference between the voltage cycle and the current cycle at a 50 kHz current',\n",
    "    'RA4IR50': 'R50 (ohms) Resistance of whole body fluids to the current at a frequency of 50kHZ',\n",
    "    'RA4IXC50': 'Xc50 (ohms) Reactance of cell membranes at 50 kHz current',\n",
    "    'RA4IIMP200KHZ': 'Z200 (ohms) Whole body impedance from a 200kHz alternating current',\n",
    "    'RA4ILLM': 'Leg lean mass',\n",
    "    'RA4ILLMbyLE2Icor': 'Leg Lean Mass divided by corrected ECF to ICF ratio',\n",
    "    'RA4IcorE2I': 'Corrected ECF to ICF Ratio',\n",
    "    'RA4ILegE2I': 'Leg specific E/I'\n",
    "}\n",
    "\n",
    "# Print the dictionary\n",
    "print(dxa_bis_dictionary)\n"
   ]
  },
  {
   "cell_type": "code",
   "execution_count": 8,
   "id": "3bd04e8f",
   "metadata": {},
   "outputs": [
    {
     "name": "stdout",
     "output_type": "stream",
     "text": [
      "Total number of participants:  245\n",
      "MALE:  102\n",
      "FEMALE:  143\n"
     ]
    }
   ],
   "source": [
    "#descriptive statistics of nontransformed categorical and continuous variables\n",
    "\n",
    "#categorical (Race, Age, Sex...where is the Sedentariness variable?)\n",
    "df = pd.DataFrame(data)\n",
    "\n",
    "total_df = len(df)\n",
    "print(\"Total number of participants: \", total_df)\n",
    "\n",
    "#filtering the data frame based on the 'sex' variable\n",
    "male_filtered_df = df[df['RA1PRSEX'] == 1]\n",
    "female_filtered_df = df[df['RA1PRSEX'] == 2]\n",
    "\n",
    "male_count = len(male_filtered_df)\n",
    "female_count = len(female_filtered_df)\n",
    "\n",
    "print(\"MALE: \", male_count)\n",
    "print(\"FEMALE: \", female_count)\n"
   ]
  },
  {
   "cell_type": "code",
   "execution_count": 9,
   "id": "c0b548bd",
   "metadata": {},
   "outputs": [
    {
     "name": "stdout",
     "output_type": "stream",
     "text": [
      "WHITE:  147\n",
      "BLACK:  98 \n",
      "\n",
      "MALE & BLACK:  31\n",
      "MALE & WHITE:  71 \n",
      "\n",
      "FEMALE & BLACK:  67\n",
      "FEMALE & WHITE:  76\n"
     ]
    }
   ],
   "source": [
    "#race\n",
    "\n",
    "#total data frame\n",
    "total_white = df[df['RA1PF7A'] == 1]\n",
    "total_black = df[df['RA1PF7A'] == 2]\n",
    "\n",
    "total_white_count = len(total_white)\n",
    "total_black_count = len(total_black)\n",
    "\n",
    "print(\"WHITE: \", total_white_count)\n",
    "print(\"BLACK: \", total_black_count, \"\\n\")\n",
    "\n",
    "#male \n",
    "total_male_white = len(male_filtered_df[male_filtered_df['RA1PF7A'] == 1])\n",
    "total_male_black = len(male_filtered_df[male_filtered_df['RA1PF7A'] == 2])\n",
    "\n",
    "print(\"MALE & BLACK: \", total_male_black)\n",
    "print(\"MALE & WHITE: \", total_male_white, \"\\n\")\n",
    "\n",
    "#female \n",
    "total_female_white = len(female_filtered_df[female_filtered_df['RA1PF7A'] == 1])\n",
    "total_female_black = len(female_filtered_df[female_filtered_df['RA1PF7A'] == 2])\n",
    "\n",
    "print(\"FEMALE & BLACK: \", total_female_black)\n",
    "print(\"FEMALE & WHITE: \", total_female_white)"
   ]
  },
  {
   "cell_type": "code",
   "execution_count": 10,
   "id": "6728cea5",
   "metadata": {},
   "outputs": [
    {
     "name": "stdout",
     "output_type": "stream",
     "text": [
      "25-40:  65\n",
      "41-50:  63\n",
      "51-61:  66\n",
      ">61:  51 \n",
      "\n",
      "25-40 & MALE:  22\n",
      "41-50 & MALE:  27\n",
      "51-61 & MALE:  20\n",
      ">61 & MALE:  33 \n",
      "\n",
      "25-40 & FEMALE:  43\n",
      "41-50 & FEMALE:  36\n",
      "51-61 & FEMALE:  46\n",
      ">61 & FEMALE:  18\n"
     ]
    }
   ],
   "source": [
    "#age\n",
    "\n",
    "#total data frame\n",
    "#25-40\n",
    "first_range = len(df[(df['RA1PRAGE'] >= 25) & (df['RA1PRAGE'] <= 40)])\n",
    "print(\"25-40: \", first_range)\n",
    "\n",
    "#41-50\n",
    "second_range = len(df[(df['RA1PRAGE'] >= 41) & (df['RA1PRAGE'] <= 50)])\n",
    "print(\"41-50: \", second_range)\n",
    "\n",
    "#51-61\n",
    "third_range = len(df[(df['RA1PRAGE'] >= 51) & (df['RA1PRAGE'] <= 61)])\n",
    "print(\"51-61: \", third_range)\n",
    "\n",
    "#>61\n",
    "fourth_range = len(df[(df['RA1PRAGE'] > 61)])\n",
    "print(\">61: \", fourth_range, \"\\n\")\n",
    "\n",
    "\n",
    "#male\n",
    "#25-40\n",
    "male_first_range = len(male_filtered_df[(male_filtered_df['RA1PRAGE'] >= 25) & (male_filtered_df['RA1PRAGE'] <= 40)])\n",
    "print(\"25-40 & MALE: \", male_first_range)\n",
    "\n",
    "#41-50\n",
    "male_second_range = len(male_filtered_df[(male_filtered_df['RA1PRAGE'] >= 41) & (male_filtered_df['RA1PRAGE'] <= 50)])\n",
    "print(\"41-50 & MALE: \", male_second_range)\n",
    "\n",
    "#51-61\n",
    "male_third_range = len(male_filtered_df[(male_filtered_df['RA1PRAGE'] >= 51) & (male_filtered_df['RA1PRAGE'] <= 61)])\n",
    "print(\"51-61 & MALE: \", male_third_range)\n",
    "\n",
    "#>61\n",
    "male_fourth_range = len(male_filtered_df[(male_filtered_df['RA1PRAGE'] > 61)])\n",
    "print(\">61 & MALE: \", male_fourth_range, \"\\n\")\n",
    "\n",
    "\n",
    "#female\n",
    "#25-40\n",
    "female_first_range = len(female_filtered_df[(female_filtered_df['RA1PRAGE'] >= 25) & (female_filtered_df['RA1PRAGE'] <= 40)])\n",
    "print(\"25-40 & FEMALE: \", female_first_range)\n",
    "\n",
    "#41-50\n",
    "female_second_range = len(female_filtered_df[(female_filtered_df['RA1PRAGE'] >= 41) & (female_filtered_df['RA1PRAGE'] <= 50)])\n",
    "print(\"41-50 & FEMALE: \", female_second_range)\n",
    "\n",
    "#51-61\n",
    "female_third_range = len(female_filtered_df[(female_filtered_df['RA1PRAGE'] >= 51) & (female_filtered_df['RA1PRAGE'] <= 61)])\n",
    "print(\"51-61 & FEMALE: \", female_third_range)\n",
    "\n",
    "#>61\n",
    "female_fourth_range = len(female_filtered_df[(female_filtered_df['RA1PRAGE'] > 61)])\n",
    "print(\">61 & FEMALE: \", female_fourth_range)"
   ]
  },
  {
   "cell_type": "code",
   "execution_count": 11,
   "id": "cf7e4825",
   "metadata": {},
   "outputs": [
    {
     "name": "stdout",
     "output_type": "stream",
     "text": [
      "Percentages of total WHITE: 60.0\n",
      "Percentages of total BLACK: 40.0 \n",
      "\n",
      "Percentages of total WHITE & MALE: 69.6\n",
      "Percentages of total BLACK & MALE: 30.4 \n",
      "\n",
      "Percentages of total WHITE & FEMALE: 53.1\n",
      "Percentages of total BLACK & FEMALE: 46.9 \n",
      "\n",
      "Percentages of total 25-40: 26.5\n",
      "Percentages of total 41-50: 25.7\n",
      "Percentages of total 51-61: 26.9\n",
      "Percentages of total > 61: 20.8 \n",
      "\n",
      "Percentages of total 25-40 & MALE: 21.6\n",
      "Percentages of total 41-50 & MALE: 26.5\n",
      "Percentages of total 51-61 & MALE: 19.6\n",
      "Percentages of total > 61 & MALE: 32.4 \n",
      "\n",
      "Percentages of total 25-40 & FEMALE: 30.1\n",
      "Percentages of total 41-50 & FEMALE: 25.2\n",
      "Percentages of total 51-61 & FEMALE: 32.2\n",
      "Percentages of total > 61 & FEMALE: 12.6 \n",
      "\n"
     ]
    }
   ],
   "source": [
    "#percentages for categorical variables\n",
    "\n",
    "#race\n",
    "print(\"Percentages of total WHITE:\", round((total_white_count / total_df) * 100, 1))\n",
    "print(\"Percentages of total BLACK:\", round((total_black_count / total_df) * 100, 1), \"\\n\")\n",
    "\n",
    "print(\"Percentages of total WHITE & MALE:\", round((total_male_white / male_count) * 100, 1))\n",
    "print(\"Percentages of total BLACK & MALE:\", round((total_male_black / male_count) * 100, 1), \"\\n\")\n",
    "\n",
    "print(\"Percentages of total WHITE & FEMALE:\", round((total_female_white / female_count) * 100, 1))\n",
    "print(\"Percentages of total BLACK & FEMALE:\", round((total_female_black / female_count) * 100, 1), \"\\n\")\n",
    "\n",
    "\n",
    "#age\n",
    "print(\"Percentages of total 25-40:\", round((first_range / total_df) * 100, 1))\n",
    "print(\"Percentages of total 41-50:\", round((second_range / total_df) * 100, 1))\n",
    "print(\"Percentages of total 51-61:\", round((third_range / total_df) * 100, 1))\n",
    "print(\"Percentages of total > 61:\", round((fourth_range / total_df) * 100, 1), \"\\n\")\n",
    "\n",
    "print(\"Percentages of total 25-40 & MALE:\", round((male_first_range / male_count) * 100, 1))\n",
    "print(\"Percentages of total 41-50 & MALE:\", round((male_second_range / male_count) * 100, 1))\n",
    "print(\"Percentages of total 51-61 & MALE:\", round((male_third_range / male_count) * 100, 1))\n",
    "print(\"Percentages of total > 61 & MALE:\", round((male_fourth_range / male_count) * 100, 1), \"\\n\")\n",
    "\n",
    "print(\"Percentages of total 25-40 & FEMALE:\", round((female_first_range / female_count) * 100, 1))\n",
    "print(\"Percentages of total 41-50 & FEMALE:\", round((female_second_range / female_count) * 100, 1))\n",
    "print(\"Percentages of total 51-61 & FEMALE:\", round((female_third_range / female_count) * 100, 1))\n",
    "print(\"Percentages of total > 61 & FEMALE:\", round((female_fourth_range / female_count) * 100, 1), \"\\n\")\n"
   ]
  },
  {
   "cell_type": "code",
   "execution_count": 13,
   "id": "352a8b9c",
   "metadata": {},
   "outputs": [
    {
     "name": "stdout",
     "output_type": "stream",
     "text": [
      "Total BMI mean: 31.17\n",
      "Total BMI standard deviation: 7.45 \n",
      "\n",
      "Total BMI MALE mean: 30.3\n",
      "Total BMI MALE standard deviation: 6.48 \n",
      "\n",
      "Total BMI FEMALE mean: 31.79\n",
      "Total BMI FEMALE standard deviation: 8.03 \n",
      "\n"
     ]
    }
   ],
   "source": [
    "#CONTINOUOUS VARIABLES\n",
    "\n",
    "#BMI\n",
    "bmi_filtered = df['RA4PBMI'].astype(float)\n",
    "bmi_mean = bmi_filtered.mean()\n",
    "bmi_std = bmi_filtered.std()\n",
    "print(\"Total BMI mean:\", round(bmi_mean, 2))\n",
    "print(\"Total BMI standard deviation:\", round(bmi_std, 2), \"\\n\")\n",
    "\n",
    "#male BMI\n",
    "bmi_male = male_filtered_df['RA4PBMI'].astype(float)\n",
    "bmi_male_mean = bmi_male.mean()\n",
    "bmi_male_sd = bmi_male.std()\n",
    "print(\"Total BMI MALE mean:\", round(bmi_male_mean, 2))\n",
    "print(\"Total BMI MALE standard deviation:\", round(bmi_male_sd, 2), \"\\n\")\n",
    "\n",
    "#female BMI\n",
    "bmi_female = female_filtered_df['RA4PBMI'].astype(float)\n",
    "bmi_female_mean = bmi_female.mean()\n",
    "bmi_female_sd = bmi_female.std()\n",
    "print(\"Total BMI FEMALE mean:\", round(bmi_female_mean, 2))\n",
    "print(\"Total BMI FEMALE standard deviation:\", round(bmi_female_sd, 2), \"\\n\")"
   ]
  },
  {
   "cell_type": "code",
   "execution_count": 187,
   "id": "f75e2f18",
   "metadata": {},
   "outputs": [
    {
     "name": "stdout",
     "output_type": "stream",
     "text": [
      "Total AGE mean: 49.2\n",
      "Total AGE standard deviation: 13.02 \n",
      "\n",
      "Total AGE MALE mean: 51.21\n",
      "Total AGE MALE standard deviation: 13.46 \n",
      "\n",
      "Total AGE FEMALE mean: 47.78\n",
      "Total AGE FEMALE standard deviation: 12.54 \n",
      "\n"
     ]
    }
   ],
   "source": [
    "#AGE\n",
    "age_filtered = df['RA1PRAGE'].astype(float)\n",
    "age_mean = age_filtered.mean()\n",
    "age_std = age_filtered.std()\n",
    "print(\"Total AGE mean:\", round(age_mean, 2))\n",
    "print(\"Total AGE standard deviation:\", round(age_std, 2), \"\\n\")\n",
    "\n",
    "#male AGE\n",
    "age_male = male_filtered_df['RA1PRAGE'].astype(float)\n",
    "age_male_mean = age_male.mean()\n",
    "age_male_sd = age_male.std()\n",
    "print(\"Total AGE MALE mean:\", round(age_male_mean, 2))\n",
    "print(\"Total AGE MALE standard deviation:\", round(age_male_sd, 2), \"\\n\")\n",
    "\n",
    "#female AGE\n",
    "age_female = female_filtered_df['RA1PRAGE'].astype(float)\n",
    "age_female_mean = age_female.mean()\n",
    "age_female_sd = age_female.std()\n",
    "print(\"Total AGE FEMALE mean:\", round(age_female_mean, 2))\n",
    "print(\"Total AGE FEMALE standard deviation:\", round(age_female_sd, 2), \"\\n\")"
   ]
  },
  {
   "cell_type": "code",
   "execution_count": 188,
   "id": "21a8e23f",
   "metadata": {},
   "outputs": [
    {
     "name": "stdout",
     "output_type": "stream",
     "text": [
      "Total HANDGRIP STRENGTH mean: 30.47\n",
      "Total HANDGRIP STRENGTH standard deviation: 11.88 \n",
      "\n",
      "Total HANDGRIP STRENGTH MALE mean: 39.85\n",
      "Total HANDGRIP MALE standard deviation: 10.44 \n",
      "\n",
      "Total HANDGRIP STRENGTH FEMALE mean: 23.77\n",
      "Total HANDGRIP FEMALE standard deviation: 7.51 \n",
      "\n"
     ]
    }
   ],
   "source": [
    "#HANDGRIP STRENGTH\n",
    "\n",
    "handgrip_filtered = df['RA4IMaxGrip'].astype(float)\n",
    "handgrip_mean = handgrip_filtered.mean()\n",
    "handgrip_std = handgrip_filtered.std()\n",
    "print(\"Total HANDGRIP STRENGTH mean:\", round(handgrip_mean, 2))\n",
    "print(\"Total HANDGRIP STRENGTH standard deviation:\", round(handgrip_std, 2), \"\\n\")\n",
    "\n",
    "#male HANDGRIP\n",
    "handgrip_male = male_filtered_df['RA4IMaxGrip'].astype(float)\n",
    "handgrip_male_mean = handgrip_male.mean()\n",
    "handgrip_male_sd = handgrip_male.std()\n",
    "print(\"Total HANDGRIP STRENGTH MALE mean:\", round(handgrip_male_mean, 2))\n",
    "print(\"Total HANDGRIP MALE standard deviation:\", round(handgrip_male_sd, 2), \"\\n\")\n",
    "\n",
    "#female HANDGRIP\n",
    "handgrip_female = female_filtered_df['RA4IMaxGrip'].astype(float)\n",
    "handgrip_female_mean = handgrip_female.mean()\n",
    "handgrip_female_sd = handgrip_female.std()\n",
    "print(\"Total HANDGRIP STRENGTH FEMALE mean:\", round(handgrip_female_mean, 2))\n",
    "print(\"Total HANDGRIP FEMALE standard deviation:\", round(handgrip_female_sd, 2), \"\\n\")"
   ]
  },
  {
   "cell_type": "code",
   "execution_count": 189,
   "id": "3d5c0bb4",
   "metadata": {},
   "outputs": [
    {
     "name": "stdout",
     "output_type": "stream",
     "text": [
      "Total JUMP POWER mean: 2.62\n",
      "Total JUMP POWER standard deviation: 0.96 \n",
      "\n",
      "Total JUMP POWER MALE mean: 3.25\n",
      "Total JUMP POWER MALE standard deviation: 0.99 \n",
      "\n",
      "Total JUMP POWER FEMALE mean: 2.17\n",
      "Total JUMP POWER FEMALE standard deviation: 0.63 \n",
      "\n"
     ]
    }
   ],
   "source": [
    "#JUMP POWER\n",
    "\n",
    "jump_filtered = df['RA4DRAWJPOWO'].astype(float)\n",
    "jump_mean = jump_filtered.mean()\n",
    "jump_std = jump_filtered.std()\n",
    "print(\"Total JUMP POWER mean:\", round(jump_mean, 2))\n",
    "print(\"Total JUMP POWER standard deviation:\", round(jump_std, 2), \"\\n\")\n",
    "\n",
    "#male JUMP POWER\n",
    "jump_male = male_filtered_df['RA4DRAWJPOWO'].astype(float)\n",
    "jump_male_mean = jump_male.mean()\n",
    "jump_male_sd = jump_male.std()\n",
    "print(\"Total JUMP POWER MALE mean:\", round(jump_male_mean, 2))\n",
    "print(\"Total JUMP POWER MALE standard deviation:\", round(jump_male_sd, 2), \"\\n\")\n",
    "\n",
    "#female JUMP POWER\n",
    "jump_female = female_filtered_df['RA4DRAWJPOWO'].astype(float)\n",
    "jump_female_mean = jump_female.mean()\n",
    "jump_female_sd = jump_female.std()\n",
    "print(\"Total JUMP POWER FEMALE mean:\", round(jump_female_mean, 2))\n",
    "print(\"Total JUMP POWER FEMALE standard deviation:\", round(jump_female_sd, 2), \"\\n\")\n"
   ]
  },
  {
   "cell_type": "code",
   "execution_count": 190,
   "id": "ab0e4508",
   "metadata": {},
   "outputs": [
    {
     "name": "stdout",
     "output_type": "stream",
     "text": [
      "Total ALM mean: 23.87\n",
      "Total ALM standard deviation: 6.08 \n",
      "\n",
      "Total ALM MALE mean: 28.12\n",
      "Total ALM MALE standard deviation: 5.36 \n",
      "\n",
      "Total ALM FEMALE mean: 20.84\n",
      "Total ALM FEMALE standard deviation: 4.57 \n",
      "\n"
     ]
    }
   ],
   "source": [
    "#ALM\n",
    "\n",
    "alm_filtered = df['RA4IALM'].astype(float)\n",
    "alm_mean = alm_filtered.mean()\n",
    "alm_std = alm_filtered.std()\n",
    "print(\"Total ALM mean:\", round(alm_mean, 2))\n",
    "print(\"Total ALM standard deviation:\", round(alm_std, 2), \"\\n\")\n",
    "\n",
    "#male ALM\n",
    "alm_male = male_filtered_df['RA4IALM'].astype(float)\n",
    "alm_male_mean = alm_male.mean()\n",
    "alm_male_sd = alm_male.std()\n",
    "print(\"Total ALM MALE mean:\", round(alm_male_mean, 2))\n",
    "print(\"Total ALM MALE standard deviation:\", round(alm_male_sd, 2), \"\\n\")\n",
    "\n",
    "#female ALM\n",
    "alm_female = female_filtered_df['RA4IALM'].astype(float)\n",
    "alm_female_mean = alm_female.mean()\n",
    "alm_female_sd = alm_female.std()\n",
    "print(\"Total ALM FEMALE mean:\", round(alm_female_mean, 2))\n",
    "print(\"Total ALM FEMALE standard deviation:\", round(alm_female_sd, 2), \"\\n\")\n"
   ]
  },
  {
   "cell_type": "code",
   "execution_count": 191,
   "id": "db658241",
   "metadata": {},
   "outputs": [
    {
     "name": "stdout",
     "output_type": "stream",
     "text": [
      "Total ALM/Ht^2 mean: 8.25\n",
      "Total ALM/Ht^2 standard deviation: 1.59 \n",
      "\n",
      "Total ALM/Ht^2 MALE mean: 8.91\n",
      "Total ALM/Ht^2 MALE standard deviation: 1.38 \n",
      "\n",
      "Total ALM/Ht^2 FEMALE mean: 7.77\n",
      "Total ALM/Ht^2 FEMALE standard deviation: 1.56 \n",
      "\n"
     ]
    }
   ],
   "source": [
    "#ALM/Ht^2\n",
    "\n",
    "ht2_filtered = df['RA4IALMbyHt2'].astype(float)\n",
    "ht2_mean = ht2_filtered.mean()\n",
    "ht2_std = ht2_filtered.std()\n",
    "print(\"Total ALM/Ht^2 mean:\", round(ht2_mean, 2))\n",
    "print(\"Total ALM/Ht^2 standard deviation:\", round(ht2_std, 2), \"\\n\")\n",
    "\n",
    "#male ALM/Ht^2\n",
    "ht2_male = male_filtered_df['RA4IALMbyHt2'].astype(float)\n",
    "ht2_male_mean = ht2_male.mean()\n",
    "ht2_male_sd = ht2_male.std()\n",
    "print(\"Total ALM/Ht^2 MALE mean:\", round(ht2_male_mean, 2))\n",
    "print(\"Total ALM/Ht^2 MALE standard deviation:\", round(ht2_male_sd, 2), \"\\n\")\n",
    "\n",
    "#female ALM/Ht^2\n",
    "ht2_female = female_filtered_df['RA4IALMbyHt2'].astype(float)\n",
    "ht2_female_mean = ht2_female.mean()\n",
    "ht2_female_sd = ht2_female.std()\n",
    "print(\"Total ALM/Ht^2 FEMALE mean:\", round(ht2_female_mean, 2))\n",
    "print(\"Total ALM/Ht^2 FEMALE standard deviation:\", round(ht2_female_sd, 2), \"\\n\")\n"
   ]
  },
  {
   "cell_type": "code",
   "execution_count": 192,
   "id": "fb967b14",
   "metadata": {},
   "outputs": [
    {
     "name": "stdout",
     "output_type": "stream",
     "text": [
      "Total ALM/BMI mean: 0.78\n",
      "Total ALM/BMI standard deviation: 0.18 \n",
      "\n",
      "Total ALM/BMI MALE mean: 0.94\n",
      "Total ALM/BMI MALE standard deviation: 0.14 \n",
      "\n",
      "Total ALM/BMI FEMALE mean: 0.67\n",
      "Total ALM/BMI FEMALE standard deviation: 0.11 \n",
      "\n"
     ]
    }
   ],
   "source": [
    "#ALM/BMI\n",
    "\n",
    "alm_bmi_filtered = df['RA4IALMbyBMI'].astype(float)\n",
    "alm_bmi_mean = alm_bmi_filtered.mean()\n",
    "alm_bmi_std = alm_bmi_filtered.std()\n",
    "print(\"Total ALM/BMI mean:\", round(alm_bmi_mean, 2))\n",
    "print(\"Total ALM/BMI standard deviation:\", round(alm_bmi_std, 2), \"\\n\")\n",
    "\n",
    "#male ALM/BMI\n",
    "alm_bmi_male = male_filtered_df['RA4IALMbyBMI'].astype(float)\n",
    "alm_bmi_male_mean = alm_bmi_male.mean()\n",
    "alm_bmi_male_sd = alm_bmi_male.std()\n",
    "print(\"Total ALM/BMI MALE mean:\", round(alm_bmi_male_mean, 2))\n",
    "print(\"Total ALM/BMI MALE standard deviation:\", round(alm_bmi_male_sd, 2), \"\\n\")\n",
    "\n",
    "#female ALM/BMI\n",
    "alm_bmi_female = female_filtered_df['RA4IALMbyBMI'].astype(float)\n",
    "alm_bmi_female_mean = alm_bmi_female.mean()\n",
    "alm_bmi_female_sd = alm_bmi_female.std()\n",
    "print(\"Total ALM/BMI FEMALE mean:\", round(alm_bmi_female_mean, 2))\n",
    "print(\"Total ALM/BMI FEMALE standard deviation:\", round(alm_bmi_female_sd, 2), \"\\n\")\n"
   ]
  },
  {
   "cell_type": "code",
   "execution_count": 144,
   "id": "42c6af1b",
   "metadata": {},
   "outputs": [
    {
     "name": "stdout",
     "output_type": "stream",
     "text": [
      "Total ALM/(E/I)w mean: 31.49\n",
      "Total ALM/(E/I)w standard deviation: 8.15 \n",
      "\n",
      "Total ALM/(E/I)w MALE mean: 35.17\n",
      "Total ALM/(E/I)w MALE standard deviation: 8.06 \n",
      "\n",
      "Total ALM/(E/I)w FEMALE mean: 28.86\n",
      "Total ALM/(E/I)w FEMALE standard deviation: 7.15 \n",
      "\n"
     ]
    }
   ],
   "source": [
    "#ALM/(E/I)w\n",
    "\n",
    "alm_corr_w_filtered = df['RA4IALMbyE2I'].astype(float)\n",
    "alm_corr_w_mean = alm_corr_w_filtered.mean()\n",
    "alm_corr_w_std = alm_corr_w_filtered.std()\n",
    "print(\"Total ALM/(E/I)w mean:\", round(alm_corr_w_mean, 2))\n",
    "print(\"Total ALM/(E/I)w standard deviation:\", round(alm_corr_w_std, 2), \"\\n\")\n",
    "\n",
    "#male ALM/(E/I)w\n",
    "alm_corr_w_male = male_filtered_df['RA4IALMbyE2I'].astype(float)\n",
    "alm_corr_w_male_mean = alm_corr_w_male.mean()\n",
    "alm_corr_w_male_sd = alm_corr_w_male.std()\n",
    "print(\"Total ALM/(E/I)w MALE mean:\", round(alm_corr_w_male_mean, 2))\n",
    "print(\"Total ALM/(E/I)w MALE standard deviation:\", round(alm_corr_w_male_sd, 2), \"\\n\")\n",
    "\n",
    "#female ALM/(E/I)w\n",
    "alm_corr_w_female = female_filtered_df['RA4IALMbyE2I'].astype(float)\n",
    "alm_corr_w_female_mean = alm_corr_w_female.mean()\n",
    "alm_corr_w_female_sd = alm_corr_w_female.std()\n",
    "print(\"Total ALM/(E/I)w FEMALE mean:\", round(alm_corr_w_female_mean, 2))\n",
    "print(\"Total ALM/(E/I)w FEMALE standard deviation:\", round(alm_corr_w_female_sd, 2), \"\\n\")\n"
   ]
  },
  {
   "cell_type": "code",
   "execution_count": 194,
   "id": "fd0c31e4",
   "metadata": {},
   "outputs": [
    {
     "name": "stdout",
     "output_type": "stream",
     "text": [
      "Total LLM mean: 17.76\n",
      "Total LLM standard deviation: 4.34 \n",
      "\n",
      "Total LLM MALE mean: 20.43\n",
      "Total LLM MALE standard deviation: 3.97 \n",
      "\n",
      "Total LLM FEMALE mean: 15.85\n",
      "Total LLM FEMALE standard deviation: 3.51 \n",
      "\n"
     ]
    }
   ],
   "source": [
    "#LLM\n",
    "\n",
    "llm_filtered = df['RA4ILLM'].astype(float)\n",
    "llm_mean = llm_filtered.mean()\n",
    "llm_std = llm_filtered.std()\n",
    "print(\"Total LLM mean:\", round(llm_mean, 2))\n",
    "print(\"Total LLM standard deviation:\", round(llm_std, 2), \"\\n\")\n",
    "\n",
    "#male LLM\n",
    "llm_male = male_filtered_df['RA4ILLM'].astype(float)\n",
    "llm_male_mean = llm_male.mean()\n",
    "llm_male_sd = llm_male.std()\n",
    "print(\"Total LLM MALE mean:\", round(llm_male_mean, 2))\n",
    "print(\"Total LLM MALE standard deviation:\", round(llm_male_sd, 2), \"\\n\")\n",
    "\n",
    "#female LLM\n",
    "llm_female = female_filtered_df['RA4ILLM'].astype(float)\n",
    "llm_female_mean = llm_female.mean()\n",
    "llm_female_sd = llm_female.std()\n",
    "print(\"Total LLM FEMALE mean:\", round(llm_female_mean, 2))\n",
    "print(\"Total LLM FEMALE standard deviation:\", round(llm_female_sd, 2), \"\\n\")\n"
   ]
  },
  {
   "cell_type": "code",
   "execution_count": 195,
   "id": "94f04e67",
   "metadata": {},
   "outputs": [
    {
     "name": "stdout",
     "output_type": "stream",
     "text": [
      "Total LLM/(E/I)l mean: 6.79\n",
      "Total LLM/(E/I)l standard deviation: 2.42 \n",
      "\n",
      "Total LLM/(E/I)l MALE mean: 8.0\n",
      "Total LLM/(E/I)l MALE standard deviation: 2.49 \n",
      "\n",
      "Total LLM/(E/I)l FEMALE mean: 5.92\n",
      "Total LLM/(E/I)l FEMALE standard deviation: 1.96 \n",
      "\n"
     ]
    }
   ],
   "source": [
    "#LLM/(E/I)l\n",
    "\n",
    "corr_llm_filtered = df['RA4ILLMbyLE2Icor'].astype(float)\n",
    "corr_llm_mean = corr_llm_filtered.mean()\n",
    "corr_llm_std = corr_llm_filtered.std()\n",
    "print(\"Total LLM/(E/I)l mean:\", round(corr_llm_mean, 2))\n",
    "print(\"Total LLM/(E/I)l standard deviation:\", round(corr_llm_std, 2), \"\\n\")\n",
    "\n",
    "#male LLM/(E/I)l\n",
    "corr_llm_male = male_filtered_df['RA4ILLMbyLE2Icor'].astype(float)\n",
    "corr_llm_male_mean = corr_llm_male.mean()\n",
    "corr_llm_male_sd = corr_llm_male.std()\n",
    "print(\"Total LLM/(E/I)l MALE mean:\", round(corr_llm_male_mean, 2))\n",
    "print(\"Total LLM/(E/I)l MALE standard deviation:\", round(corr_llm_male_sd, 2), \"\\n\")\n",
    "\n",
    "#female LLM/(E/I)l\n",
    "corr_llm_female = female_filtered_df['RA4ILLMbyLE2Icor'].astype(float)\n",
    "corr_llm_female_mean = corr_llm_female.mean()\n",
    "corr_llm_female_sd = corr_llm_female.std()\n",
    "print(\"Total LLM/(E/I)l FEMALE mean:\", round(corr_llm_female_mean, 2))\n",
    "print(\"Total LLM/(E/I)l FEMALE standard deviation:\", round(corr_llm_female_sd, 2), \"\\n\")"
   ]
  }
 ],
 "metadata": {
  "kernelspec": {
   "display_name": "Python 3 (ipykernel)",
   "language": "python",
   "name": "python3"
  },
  "language_info": {
   "codemirror_mode": {
    "name": "ipython",
    "version": 3
   },
   "file_extension": ".py",
   "mimetype": "text/x-python",
   "name": "python",
   "nbconvert_exporter": "python",
   "pygments_lexer": "ipython3",
   "version": "3.10.8"
  }
 },
 "nbformat": 4,
 "nbformat_minor": 5
}
