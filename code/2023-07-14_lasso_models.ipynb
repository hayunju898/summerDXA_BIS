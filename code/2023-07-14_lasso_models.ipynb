{
 "cells": [
  {
   "cell_type": "code",
   "execution_count": 4,
   "id": "0fef5306",
   "metadata": {},
   "outputs": [],
   "source": [
    "import pandas as pd\n",
    "import numpy as np\n",
    "import matplotlib.pyplot as plt\n",
    "import seaborn as sns\n",
    "import statsmodels.api as sm\n",
    "from sklearn.linear_model import LinearRegression\n",
    "from sklearn.linear_model import LassoCV\n",
    "from sklearn.linear_model import Lasso\n",
    "from sklearn.preprocessing import StandardScaler \n",
    "from sklearn.model_selection import train_test_split\n",
    "from sklearn import metrics\n",
    "\n",
    "data = pd.read_csv('/Users/yunjuha/Desktop/SROP/DXA_BIS_Project/2023-07-14/2023-07-14_data_transformation.csv')\n",
    "df = pd.DataFrame(data)\n",
    "df = df.dropna()"
   ]
  },
  {
   "cell_type": "markdown",
   "id": "253712cd",
   "metadata": {},
   "source": [
    "# Lasso Models for HANDGRIP STRENGTH"
   ]
  },
  {
   "cell_type": "markdown",
   "id": "8c60b40a",
   "metadata": {},
   "source": [
    "## BIS"
   ]
  },
  {
   "cell_type": "markdown",
   "id": "7b013a38",
   "metadata": {},
   "source": [
    "### (E/I)w"
   ]
  },
  {
   "cell_type": "code",
   "execution_count": 6,
   "id": "c167aeab",
   "metadata": {},
   "outputs": [
    {
     "name": "stdout",
     "output_type": "stream",
     "text": [
      "[(0.0, 'RA4DTBLMkg'), (0.0, 'RA4IALMbyHt2'), (0.0, 'RA4IMECF'), (0.0, 'RA4IMICF'), (0.0, 'RA4IMTBW'), (0.0, 'RA4IE2I'), (0.0, 'RA4IMFFM'), (0.0, 'RA4IALMbyE2I'), (0.0, 'RA4IECFbyTBW'), (0.07900485303948102, 'RA4P1A'), (0.0, 'RA4P1B'), (-0.0, 'RA4PBMI'), (-0.0, 'RA4IBMICAT'), (0.0, 'RA4IALMbyWt'), (0.08362540605733348, 'RA4IALMbyBMI'), (-0.0, 'RA4IRES0'), (-0.0, 'RA4IRESINF'), (-0.0, 'RA4IRESEXC'), (-0.020047341677484846, 'RA4IRESINC'), (-0.0, 'RA4IFCHAR'), (0.0, 'RA4IMCAP'), (-0.0, 'RA4IIMP5KHZ'), (-0.0, 'RA4IIMP50KHZ'), (0.0, 'RA4IPH50'), (-0.0, 'RA4IR50'), (-0.0, 'RA4IXC50'), (-0.0, 'RA4IIMP200KHZ'), (-0.0, 'RA4IcorE2I'), (-0.03203716911792607, 'RA4DLSMD'), (-0.0, 'RA4DLFNMD'), (-0.0, 'RA4DLR3MD'), (0.25333276723272896, 'RA4DLABM'), (0.0, 'RA4DLLBM'), (-0.0, 'RA4DLTRBM'), (0.0, 'RA4DLTBBM'), (0.0, 'RA4DRABM'), (0.0, 'RA4DRLBM'), (0.0, 'RA4DRTRBM'), (-0.0, 'RA4DRTBBM'), (0.0, 'RA4DABM'), (0.0, 'RA4DLBM'), (-0.0, 'RA4DTRBM'), (0.0, 'RA4DANBM'), (0.0, 'RA4DGYBM'), (0.0, 'RA4DTBBM'), (-0.0, 'RA4DLAFM'), (-0.0, 'RA4DLTRFM'), (-0.0, 'RA4DLLFM'), (-0.0, 'RA4DLTBFM'), (-0.0, 'RA4DRAFM'), (0.0, 'RA4DRLFM'), (-0.0, 'RA4DRTRFM'), (-0.0, 'RA4DRTBFM'), (-0.0, 'RA4DAFM'), (-0.0, 'RA4DLFM'), (-0.0, 'RA4DTRFM'), (-0.0, 'RA4DANFM'), (-0.0, 'RA4DGYFM'), (-0.0, 'RA4DTBFM'), (-0.1192946559144862, 'RA4IMFFMP'), (-0.0, 'RA4IMICFP'), (0.0, 'RA4IMICFWT'), (-0.22954293373202586, 'RA1PRSEX'), (-0.08476726211434592, 'RA1PF7A'), (0.0, 'Age_40_50'), (0.0, 'Age_51_61'), (-0.0, 'Age_61plus')]\n",
      "\n",
      "R squared training set 50.91\n",
      "R squared test set 54.35\n"
     ]
    },
    {
     "data": {
      "text/plain": [
       "0.598895624302498"
      ]
     },
     "execution_count": 6,
     "metadata": {},
     "output_type": "execute_result"
    }
   ],
   "source": [
    "#setting predictor (X) and target (y)\n",
    "X = df.drop(columns = ['jumppownums', 'RA4IMaxGrip', 'RA4IALM', 'RA4IALMbyE2Icor', 'RA4ILLM', 'RA4ILLMbyLE2Icor', 'RA4ILegE2I'])\n",
    "y = df['RA4IMaxGrip']\n",
    "\n",
    "#dividing into train and test set\n",
    "X_train, X_test, y_train, y_test = train_test_split(X, y, test_size = 0.2, random_state = 42)\n",
    "\n",
    "scaler = StandardScaler().fit(X_train) \n",
    "\n",
    "X_train = scaler.transform(X_train)\n",
    "X_test = scaler.transform(X_test)\n",
    "\n",
    "# Lasso with 5 fold cross-validation\n",
    "model = LassoCV(cv=5, random_state=0, max_iter=10000000)\n",
    "\n",
    "# Fit model\n",
    "model.fit(X_train, y_train)\n",
    "\n",
    "model.alpha_\n",
    "\n",
    "lasso_best = Lasso(alpha=model.alpha_)\n",
    "lasso_best.fit(X_train, y_train)\n",
    "\n",
    "print(list(zip(lasso_best.coef_, X)))\n",
    "print('\\nR squared training set', round(lasso_best.score(X_train, y_train)*100, 2))\n",
    "print('R squared test set', round(lasso_best.score(X_test, y_test)*100, 2))\n",
    "\n",
    "metrics.mean_squared_error(y_test, lasso_best.predict(X_test))\n"
   ]
  },
  {
   "cell_type": "markdown",
   "id": "d16466c2",
   "metadata": {},
   "source": [
    "### (E/I)L"
   ]
  },
  {
   "cell_type": "code",
   "execution_count": 7,
   "id": "f0e23c15",
   "metadata": {},
   "outputs": [
    {
     "name": "stdout",
     "output_type": "stream",
     "text": [
      "[(0.0, 'RA4DTBLMkg'), (0.0, 'RA4IALMbyHt2'), (0.0, 'RA4IMECF'), (0.0, 'RA4IMICF'), (0.0, 'RA4IMTBW'), (0.0, 'RA4IE2I'), (0.0, 'RA4IMFFM'), (0.0, 'RA4IALMbyE2I'), (0.0, 'RA4IECFbyTBW'), (0.07899749019418888, 'RA4P1A'), (0.0, 'RA4P1B'), (-0.0, 'RA4PBMI'), (-0.0, 'RA4IBMICAT'), (0.0, 'RA4IALMbyWt'), (0.08363222187126015, 'RA4IALMbyBMI'), (-0.0, 'RA4IRES0'), (-0.0, 'RA4IRESINF'), (-0.0, 'RA4IRESEXC'), (-0.020046373120473422, 'RA4IRESINC'), (-0.0, 'RA4IFCHAR'), (0.0, 'RA4IMCAP'), (-0.0, 'RA4IIMP5KHZ'), (-0.0, 'RA4IIMP50KHZ'), (0.0, 'RA4IPH50'), (-0.0, 'RA4IR50'), (-0.0, 'RA4IXC50'), (-0.0, 'RA4IIMP200KHZ'), (-0.0, 'RA4ILegE2I'), (-0.03203823202384304, 'RA4DLSMD'), (-0.0, 'RA4DLFNMD'), (-0.0, 'RA4DLR3MD'), (0.2533374483122582, 'RA4DLABM'), (0.0, 'RA4DLLBM'), (-0.0, 'RA4DLTRBM'), (0.0, 'RA4DLTBBM'), (0.0, 'RA4DRABM'), (0.0, 'RA4DRLBM'), (0.0, 'RA4DRTRBM'), (-0.0, 'RA4DRTBBM'), (0.0, 'RA4DABM'), (0.0, 'RA4DLBM'), (-0.0, 'RA4DTRBM'), (0.0, 'RA4DANBM'), (0.0, 'RA4DGYBM'), (0.0, 'RA4DTBBM'), (-0.0, 'RA4DLAFM'), (-0.0, 'RA4DLTRFM'), (-0.0, 'RA4DLLFM'), (-0.0, 'RA4DLTBFM'), (-0.0, 'RA4DRAFM'), (0.0, 'RA4DRLFM'), (-0.0, 'RA4DRTRFM'), (-0.0, 'RA4DRTBFM'), (-0.0, 'RA4DAFM'), (-0.0, 'RA4DLFM'), (-0.0, 'RA4DTRFM'), (-0.0, 'RA4DANFM'), (-0.0, 'RA4DGYFM'), (-0.0, 'RA4DTBFM'), (-0.11929159955212042, 'RA4IMFFMP'), (-0.0, 'RA4IMICFP'), (0.0, 'RA4IMICFWT'), (-0.22954110241572484, 'RA1PRSEX'), (-0.08476865571533408, 'RA1PF7A'), (0.0, 'Age_40_50'), (0.0, 'Age_51_61'), (-0.0, 'Age_61plus')]\n",
      "\n",
      "R squared training set 50.91\n",
      "R squared test set 54.35\n"
     ]
    },
    {
     "data": {
      "text/plain": [
       "0.5988951433650774"
      ]
     },
     "execution_count": 7,
     "metadata": {},
     "output_type": "execute_result"
    }
   ],
   "source": [
    "#setting predictor (X) and target (y)\n",
    "X = df.drop(columns = ['jumppownums', 'RA4IMaxGrip', 'RA4IALM', 'RA4IALMbyE2Icor', 'RA4ILLM', 'RA4ILLMbyLE2Icor', 'RA4IcorE2I'])\n",
    "y = df['RA4IMaxGrip']\n",
    "\n",
    "#dividing into train and test set\n",
    "X_train, X_test, y_train, y_test = train_test_split(X, y, test_size = 0.2, random_state = 42)\n",
    "\n",
    "scaler = StandardScaler().fit(X_train) \n",
    "\n",
    "X_train = scaler.transform(X_train)\n",
    "X_test = scaler.transform(X_test)\n",
    "\n",
    "# Lasso with 5 fold cross-validation\n",
    "model = LassoCV(cv=5, random_state=0, max_iter=10000000)\n",
    "\n",
    "# Fit model\n",
    "model.fit(X_train, y_train)\n",
    "\n",
    "model.alpha_\n",
    "\n",
    "lasso_best = Lasso(alpha=model.alpha_)\n",
    "lasso_best.fit(X_train, y_train)\n",
    "\n",
    "print(list(zip(lasso_best.coef_, X)))\n",
    "print('\\nR squared training set', round(lasso_best.score(X_train, y_train)*100, 2))\n",
    "print('R squared test set', round(lasso_best.score(X_test, y_test)*100, 2))\n",
    "\n",
    "metrics.mean_squared_error(y_test, lasso_best.predict(X_test))\n"
   ]
  },
  {
   "cell_type": "markdown",
   "id": "ce129e43",
   "metadata": {},
   "source": [
    "## DXA"
   ]
  },
  {
   "cell_type": "markdown",
   "id": "e30e003e",
   "metadata": {},
   "source": [
    "### ALM"
   ]
  },
  {
   "cell_type": "code",
   "execution_count": 8,
   "id": "5b849808",
   "metadata": {},
   "outputs": [
    {
     "name": "stdout",
     "output_type": "stream",
     "text": [
      "[(0.0, 'RA4DTBLMkg'), (0.0, 'RA4IALM'), (0.0, 'RA4IALMbyHt2'), (0.0, 'RA4IMECF'), (0.0, 'RA4IMICF'), (0.0, 'RA4IMTBW'), (0.0, 'RA4IE2I'), (0.0, 'RA4IMFFM'), (0.0, 'RA4IALMbyE2I'), (0.0, 'RA4IECFbyTBW'), (0.07900278629490422, 'RA4P1A'), (0.0, 'RA4P1B'), (-0.0, 'RA4PBMI'), (-0.0, 'RA4IBMICAT'), (0.0, 'RA4IALMbyWt'), (0.08362919182554608, 'RA4IALMbyBMI'), (-0.0, 'RA4IRES0'), (-0.0, 'RA4IRESINF'), (-0.0, 'RA4IRESEXC'), (-0.02004775206657595, 'RA4IRESINC'), (-0.0, 'RA4IFCHAR'), (0.0, 'RA4IMCAP'), (-0.0, 'RA4IIMP5KHZ'), (-0.0, 'RA4IIMP50KHZ'), (0.0, 'RA4IPH50'), (-0.0, 'RA4IR50'), (-0.0, 'RA4IXC50'), (-0.0, 'RA4IIMP200KHZ'), (-0.032036792102677486, 'RA4DLSMD'), (-0.0, 'RA4DLFNMD'), (-0.0, 'RA4DLR3MD'), (0.2533321527658469, 'RA4DLABM'), (0.0, 'RA4DLLBM'), (-0.0, 'RA4DLTRBM'), (0.0, 'RA4DLTBBM'), (0.0, 'RA4DRABM'), (0.0, 'RA4DRLBM'), (0.0, 'RA4DRTRBM'), (-0.0, 'RA4DRTBBM'), (0.0, 'RA4DABM'), (0.0, 'RA4DLBM'), (-0.0, 'RA4DTRBM'), (0.0, 'RA4DANBM'), (0.0, 'RA4DGYBM'), (0.0, 'RA4DTBBM'), (-0.0, 'RA4DLAFM'), (-0.0, 'RA4DLTRFM'), (-0.0, 'RA4DLLFM'), (-0.0, 'RA4DLTBFM'), (-0.0, 'RA4DRAFM'), (0.0, 'RA4DRLFM'), (-0.0, 'RA4DRTRFM'), (-0.0, 'RA4DRTBFM'), (-0.0, 'RA4DAFM'), (-0.0, 'RA4DLFM'), (-0.0, 'RA4DTRFM'), (-0.0, 'RA4DANFM'), (-0.0, 'RA4DGYFM'), (-0.0, 'RA4DTBFM'), (-0.11929273637942446, 'RA4IMFFMP'), (-0.0, 'RA4IMICFP'), (0.0, 'RA4IMICFWT'), (-0.22954257890232663, 'RA1PRSEX'), (-0.08476773794797608, 'RA1PF7A'), (0.0, 'Age_40_50'), (0.0, 'Age_51_61'), (-0.0, 'Age_61plus')]\n",
      "\n",
      "R squared training set 50.91\n",
      "R squared test set 54.35\n"
     ]
    },
    {
     "data": {
      "text/plain": [
       "0.5988953169485102"
      ]
     },
     "execution_count": 8,
     "metadata": {},
     "output_type": "execute_result"
    }
   ],
   "source": [
    "#setting predictor (X) and target (y)\n",
    "X = df.drop(columns = ['jumppownums', 'RA4IMaxGrip', 'RA4IALMbyE2Icor', 'RA4ILLM', 'RA4ILLMbyLE2Icor', 'RA4ILegE2I', 'RA4IcorE2I'])\n",
    "y = df['RA4IMaxGrip']\n",
    "\n",
    "#dividing into train and test set\n",
    "X_train, X_test, y_train, y_test = train_test_split(X, y, test_size = 0.2, random_state = 42)\n",
    "\n",
    "scaler = StandardScaler().fit(X_train) \n",
    "\n",
    "X_train = scaler.transform(X_train)\n",
    "X_test = scaler.transform(X_test)\n",
    "\n",
    "# Lasso with 5 fold cross-validation\n",
    "model = LassoCV(cv=5, random_state=0, max_iter=10000000)\n",
    "\n",
    "# Fit model\n",
    "model.fit(X_train, y_train)\n",
    "\n",
    "model.alpha_\n",
    "\n",
    "lasso_best = Lasso(alpha=model.alpha_)\n",
    "lasso_best.fit(X_train, y_train)\n",
    "\n",
    "print(list(zip(lasso_best.coef_, X)))\n",
    "print('\\nR squared training set', round(lasso_best.score(X_train, y_train)*100, 2))\n",
    "print('R squared test set', round(lasso_best.score(X_test, y_test)*100, 2))\n",
    "\n",
    "metrics.mean_squared_error(y_test, lasso_best.predict(X_test))"
   ]
  },
  {
   "cell_type": "markdown",
   "id": "15556887",
   "metadata": {},
   "source": [
    "### LLM"
   ]
  },
  {
   "cell_type": "code",
   "execution_count": 9,
   "id": "8c9008eb",
   "metadata": {},
   "outputs": [
    {
     "name": "stdout",
     "output_type": "stream",
     "text": [
      "[(0.0, 'RA4DTBLMkg'), (0.0, 'RA4IALMbyHt2'), (0.0, 'RA4IMECF'), (0.0, 'RA4IMICF'), (0.0, 'RA4IMTBW'), (0.0, 'RA4IE2I'), (0.0, 'RA4IMFFM'), (0.0, 'RA4IALMbyE2I'), (0.0, 'RA4IECFbyTBW'), (0.07899749019418888, 'RA4P1A'), (0.0, 'RA4P1B'), (-0.0, 'RA4PBMI'), (-0.0, 'RA4IBMICAT'), (0.0, 'RA4IALMbyWt'), (0.08363222187126015, 'RA4IALMbyBMI'), (-0.0, 'RA4IRES0'), (-0.0, 'RA4IRESINF'), (-0.0, 'RA4IRESEXC'), (-0.020046373120473422, 'RA4IRESINC'), (-0.0, 'RA4IFCHAR'), (0.0, 'RA4IMCAP'), (-0.0, 'RA4IIMP5KHZ'), (-0.0, 'RA4IIMP50KHZ'), (0.0, 'RA4IPH50'), (-0.0, 'RA4IR50'), (-0.0, 'RA4IXC50'), (-0.0, 'RA4IIMP200KHZ'), (0.0, 'RA4ILLM'), (-0.03203823202384304, 'RA4DLSMD'), (-0.0, 'RA4DLFNMD'), (-0.0, 'RA4DLR3MD'), (0.2533374483122582, 'RA4DLABM'), (0.0, 'RA4DLLBM'), (-0.0, 'RA4DLTRBM'), (0.0, 'RA4DLTBBM'), (0.0, 'RA4DRABM'), (0.0, 'RA4DRLBM'), (0.0, 'RA4DRTRBM'), (-0.0, 'RA4DRTBBM'), (0.0, 'RA4DABM'), (0.0, 'RA4DLBM'), (-0.0, 'RA4DTRBM'), (0.0, 'RA4DANBM'), (0.0, 'RA4DGYBM'), (0.0, 'RA4DTBBM'), (-0.0, 'RA4DLAFM'), (-0.0, 'RA4DLTRFM'), (-0.0, 'RA4DLLFM'), (-0.0, 'RA4DLTBFM'), (-0.0, 'RA4DRAFM'), (0.0, 'RA4DRLFM'), (-0.0, 'RA4DRTRFM'), (-0.0, 'RA4DRTBFM'), (-0.0, 'RA4DAFM'), (-0.0, 'RA4DLFM'), (-0.0, 'RA4DTRFM'), (-0.0, 'RA4DANFM'), (-0.0, 'RA4DGYFM'), (-0.0, 'RA4DTBFM'), (-0.11929159955212042, 'RA4IMFFMP'), (-0.0, 'RA4IMICFP'), (0.0, 'RA4IMICFWT'), (-0.22954110241572484, 'RA1PRSEX'), (-0.08476865571533408, 'RA1PF7A'), (0.0, 'Age_40_50'), (0.0, 'Age_51_61'), (-0.0, 'Age_61plus')]\n",
      "\n",
      "R squared training set 50.91\n",
      "R squared test set 54.35\n"
     ]
    },
    {
     "data": {
      "text/plain": [
       "0.5988951433650774"
      ]
     },
     "execution_count": 9,
     "metadata": {},
     "output_type": "execute_result"
    }
   ],
   "source": [
    "#setting predictor (X) and target (y)\n",
    "X = df.drop(columns = ['jumppownums', 'RA4IMaxGrip', 'RA4IALMbyE2Icor', 'RA4IALM', 'RA4ILLMbyLE2Icor', 'RA4ILegE2I', 'RA4IcorE2I'])\n",
    "y = df['RA4IMaxGrip']\n",
    "\n",
    "#dividing into train and test set\n",
    "X_train, X_test, y_train, y_test = train_test_split(X, y, test_size = 0.2, random_state = 42)\n",
    "\n",
    "scaler = StandardScaler().fit(X_train) \n",
    "\n",
    "X_train = scaler.transform(X_train)\n",
    "X_test = scaler.transform(X_test)\n",
    "\n",
    "# Lasso with 5 fold cross-validation\n",
    "model = LassoCV(cv=5, random_state=0, max_iter=10000000)\n",
    "\n",
    "# Fit model\n",
    "model.fit(X_train, y_train)\n",
    "\n",
    "model.alpha_\n",
    "\n",
    "lasso_best = Lasso(alpha=model.alpha_)\n",
    "lasso_best.fit(X_train, y_train)\n",
    "\n",
    "print(list(zip(lasso_best.coef_, X)))\n",
    "print('\\nR squared training set', round(lasso_best.score(X_train, y_train)*100, 2))\n",
    "print('R squared test set', round(lasso_best.score(X_test, y_test)*100, 2))\n",
    "\n",
    "metrics.mean_squared_error(y_test, lasso_best.predict(X_test))"
   ]
  },
  {
   "cell_type": "markdown",
   "id": "4073d65b",
   "metadata": {},
   "source": [
    "## DXA + BIS"
   ]
  },
  {
   "cell_type": "markdown",
   "id": "e5baa995",
   "metadata": {},
   "source": [
    "### ALM / (E/I)w"
   ]
  },
  {
   "cell_type": "code",
   "execution_count": 10,
   "id": "bad31210",
   "metadata": {},
   "outputs": [
    {
     "name": "stdout",
     "output_type": "stream",
     "text": [
      "[(0.0, 'RA4DTBLMkg'), (0.0, 'RA4IALMbyHt2'), (0.0, 'RA4IMECF'), (0.0, 'RA4IMICF'), (0.0, 'RA4IMTBW'), (0.0, 'RA4IE2I'), (0.0, 'RA4IMFFM'), (0.0, 'RA4IALMbyE2I'), (0.0, 'RA4IECFbyTBW'), (0.0790176124237889, 'RA4P1A'), (0.0, 'RA4P1B'), (-0.0, 'RA4PBMI'), (-0.0, 'RA4IBMICAT'), (0.0, 'RA4IALMbyE2Icor'), (0.0, 'RA4IALMbyWt'), (0.08360468058608767, 'RA4IALMbyBMI'), (-0.0, 'RA4IRES0'), (-0.0, 'RA4IRESINF'), (-0.0, 'RA4IRESEXC'), (-0.020045772342244236, 'RA4IRESINC'), (-0.0, 'RA4IFCHAR'), (0.0, 'RA4IMCAP'), (-0.0, 'RA4IIMP5KHZ'), (-0.0, 'RA4IIMP50KHZ'), (0.0, 'RA4IPH50'), (-0.0, 'RA4IR50'), (-0.0, 'RA4IXC50'), (-0.0, 'RA4IIMP200KHZ'), (-0.032038542152423376, 'RA4DLSMD'), (-0.0, 'RA4DLFNMD'), (-0.0, 'RA4DLR3MD'), (0.25333383519914776, 'RA4DLABM'), (0.0, 'RA4DLLBM'), (-0.0, 'RA4DLTRBM'), (0.0, 'RA4DLTBBM'), (0.0, 'RA4DRABM'), (0.0, 'RA4DRLBM'), (0.0, 'RA4DRTRBM'), (-0.0, 'RA4DRTBBM'), (0.0, 'RA4DABM'), (0.0, 'RA4DLBM'), (-0.0, 'RA4DTRBM'), (0.0, 'RA4DANBM'), (0.0, 'RA4DGYBM'), (0.0, 'RA4DTBBM'), (-0.0, 'RA4DLAFM'), (-0.0, 'RA4DLTRFM'), (-0.0, 'RA4DLLFM'), (-0.0, 'RA4DLTBFM'), (-0.0, 'RA4DRAFM'), (0.0, 'RA4DRLFM'), (-0.0, 'RA4DRTRFM'), (-0.0, 'RA4DRTBFM'), (-0.0, 'RA4DAFM'), (-0.0, 'RA4DLFM'), (-0.0, 'RA4DTRFM'), (-0.0, 'RA4DANFM'), (-0.0, 'RA4DGYFM'), (-0.0, 'RA4DTBFM'), (-0.11930500605120804, 'RA4IMFFMP'), (-0.0, 'RA4IMICFP'), (0.0, 'RA4IMICFWT'), (-0.2295453493621861, 'RA1PRSEX'), (-0.08476444411854112, 'RA1PF7A'), (0.0, 'Age_40_50'), (0.0, 'Age_51_61'), (-0.0, 'Age_61plus')]\n",
      "\n",
      "R squared training set 50.91\n",
      "R squared test set 54.35\n"
     ]
    },
    {
     "data": {
      "text/plain": [
       "0.5988972782580425"
      ]
     },
     "execution_count": 10,
     "metadata": {},
     "output_type": "execute_result"
    }
   ],
   "source": [
    "#setting predictor (X) and target (y)\n",
    "X = df.drop(columns = ['jumppownums', 'RA4IMaxGrip', 'RA4ILLM', 'RA4IALM', 'RA4ILLMbyLE2Icor', 'RA4ILegE2I', 'RA4IcorE2I'])\n",
    "y = df['RA4IMaxGrip']\n",
    "\n",
    "#dividing into train and test set\n",
    "X_train, X_test, y_train, y_test = train_test_split(X, y, test_size = 0.2, random_state = 42)\n",
    "\n",
    "scaler = StandardScaler().fit(X_train) \n",
    "\n",
    "X_train = scaler.transform(X_train)\n",
    "X_test = scaler.transform(X_test)\n",
    "\n",
    "# Lasso with 5 fold cross-validation\n",
    "model = LassoCV(cv=5, random_state=0, max_iter=10000000)\n",
    "\n",
    "# Fit model\n",
    "model.fit(X_train, y_train)\n",
    "\n",
    "model.alpha_\n",
    "\n",
    "lasso_best = Lasso(alpha=model.alpha_)\n",
    "lasso_best.fit(X_train, y_train)\n",
    "\n",
    "print(list(zip(lasso_best.coef_, X)))\n",
    "print('\\nR squared training set', round(lasso_best.score(X_train, y_train)*100, 2))\n",
    "print('R squared test set', round(lasso_best.score(X_test, y_test)*100, 2))\n",
    "\n",
    "metrics.mean_squared_error(y_test, lasso_best.predict(X_test))"
   ]
  },
  {
   "cell_type": "markdown",
   "id": "0a66b2b0",
   "metadata": {},
   "source": [
    "### LLM / (E/I)L"
   ]
  },
  {
   "cell_type": "code",
   "execution_count": 11,
   "id": "e4ae0c35",
   "metadata": {},
   "outputs": [
    {
     "name": "stdout",
     "output_type": "stream",
     "text": [
      "[(0.0, 'RA4DTBLMkg'), (0.0, 'RA4IALMbyHt2'), (0.0, 'RA4IMECF'), (0.0, 'RA4IMICF'), (0.0, 'RA4IMTBW'), (0.0, 'RA4IE2I'), (0.0, 'RA4IMFFM'), (0.0, 'RA4IALMbyE2I'), (0.0, 'RA4IECFbyTBW'), (0.07899749019418888, 'RA4P1A'), (0.0, 'RA4P1B'), (-0.0, 'RA4PBMI'), (-0.0, 'RA4IBMICAT'), (0.0, 'RA4IALMbyWt'), (0.08363222187126015, 'RA4IALMbyBMI'), (-0.0, 'RA4IRES0'), (-0.0, 'RA4IRESINF'), (-0.0, 'RA4IRESEXC'), (-0.020046373120473422, 'RA4IRESINC'), (-0.0, 'RA4IFCHAR'), (0.0, 'RA4IMCAP'), (-0.0, 'RA4IIMP5KHZ'), (-0.0, 'RA4IIMP50KHZ'), (0.0, 'RA4IPH50'), (-0.0, 'RA4IR50'), (-0.0, 'RA4IXC50'), (-0.0, 'RA4IIMP200KHZ'), (0.0, 'RA4ILLMbyLE2Icor'), (-0.03203823202384304, 'RA4DLSMD'), (-0.0, 'RA4DLFNMD'), (-0.0, 'RA4DLR3MD'), (0.2533374483122582, 'RA4DLABM'), (0.0, 'RA4DLLBM'), (-0.0, 'RA4DLTRBM'), (0.0, 'RA4DLTBBM'), (0.0, 'RA4DRABM'), (0.0, 'RA4DRLBM'), (0.0, 'RA4DRTRBM'), (-0.0, 'RA4DRTBBM'), (0.0, 'RA4DABM'), (0.0, 'RA4DLBM'), (-0.0, 'RA4DTRBM'), (0.0, 'RA4DANBM'), (0.0, 'RA4DGYBM'), (0.0, 'RA4DTBBM'), (-0.0, 'RA4DLAFM'), (-0.0, 'RA4DLTRFM'), (-0.0, 'RA4DLLFM'), (-0.0, 'RA4DLTBFM'), (-0.0, 'RA4DRAFM'), (0.0, 'RA4DRLFM'), (-0.0, 'RA4DRTRFM'), (-0.0, 'RA4DRTBFM'), (-0.0, 'RA4DAFM'), (-0.0, 'RA4DLFM'), (-0.0, 'RA4DTRFM'), (-0.0, 'RA4DANFM'), (-0.0, 'RA4DGYFM'), (-0.0, 'RA4DTBFM'), (-0.11929159955212042, 'RA4IMFFMP'), (-0.0, 'RA4IMICFP'), (0.0, 'RA4IMICFWT'), (-0.22954110241572484, 'RA1PRSEX'), (-0.08476865571533408, 'RA1PF7A'), (0.0, 'Age_40_50'), (0.0, 'Age_51_61'), (-0.0, 'Age_61plus')]\n",
      "\n",
      "R squared training set 50.91\n",
      "R squared test set 54.35\n"
     ]
    },
    {
     "data": {
      "text/plain": [
       "0.5988951433650774"
      ]
     },
     "execution_count": 11,
     "metadata": {},
     "output_type": "execute_result"
    }
   ],
   "source": [
    "#setting predictor (X) and target (y)\n",
    "X = df.drop(columns = ['jumppownums', 'RA4IMaxGrip', 'RA4ILLM', 'RA4IALM', 'RA4IALMbyE2Icor', 'RA4ILegE2I', 'RA4IcorE2I'])\n",
    "y = df['RA4IMaxGrip']\n",
    "\n",
    "#dividing into train and test set\n",
    "X_train, X_test, y_train, y_test = train_test_split(X, y, test_size = 0.2, random_state = 42)\n",
    "\n",
    "scaler = StandardScaler().fit(X_train) \n",
    "\n",
    "X_train = scaler.transform(X_train)\n",
    "X_test = scaler.transform(X_test)\n",
    "\n",
    "# Lasso with 5 fold cross-validation\n",
    "model = LassoCV(cv=5, random_state=0, max_iter=10000000)\n",
    "\n",
    "# Fit model\n",
    "model.fit(X_train, y_train)\n",
    "\n",
    "model.alpha_\n",
    "\n",
    "lasso_best = Lasso(alpha=model.alpha_)\n",
    "lasso_best.fit(X_train, y_train)\n",
    "\n",
    "print(list(zip(lasso_best.coef_, X)))\n",
    "print('\\nR squared training set', round(lasso_best.score(X_train, y_train)*100, 2))\n",
    "print('R squared test set', round(lasso_best.score(X_test, y_test)*100, 2))\n",
    "\n",
    "metrics.mean_squared_error(y_test, lasso_best.predict(X_test))"
   ]
  },
  {
   "cell_type": "markdown",
   "id": "8135865d",
   "metadata": {},
   "source": [
    "# Random Forest Models for JUMP POWER"
   ]
  },
  {
   "cell_type": "markdown",
   "id": "01d5529a",
   "metadata": {},
   "source": [
    "## BIS"
   ]
  },
  {
   "cell_type": "markdown",
   "id": "881c9dcd",
   "metadata": {},
   "source": [
    "### (E/I)w"
   ]
  },
  {
   "cell_type": "code",
   "execution_count": 12,
   "id": "b3e4064a",
   "metadata": {},
   "outputs": [
    {
     "name": "stdout",
     "output_type": "stream",
     "text": [
      "[(0.07505573279044733, 'RA4DTBLMkg'), (0.0, 'RA4IALMbyHt2'), (0.0, 'RA4IMECF'), (0.0, 'RA4IMICF'), (0.0, 'RA4IMTBW'), (0.0, 'RA4IE2I'), (0.0, 'RA4IMFFM'), (0.0, 'RA4IALMbyE2I'), (0.05458690391832181, 'RA4IECFbyTBW'), (0.0, 'RA4P1A'), (0.0, 'RA4P1B'), (0.0, 'RA4PBMI'), (0.026031015414570688, 'RA4IBMICAT'), (0.11218604425210983, 'RA4IALMbyWt'), (0.10715896261565228, 'RA4IALMbyBMI'), (-0.0, 'RA4IRES0'), (0.0, 'RA4IRESINF'), (-0.0, 'RA4IRESEXC'), (0.0, 'RA4IRESINC'), (0.03450671639375841, 'RA4IFCHAR'), (-0.0, 'RA4IMCAP'), (-0.0, 'RA4IIMP5KHZ'), (-0.0, 'RA4IIMP50KHZ'), (0.1422905959828435, 'RA4IPH50'), (-0.0, 'RA4IR50'), (0.0, 'RA4IXC50'), (-0.0, 'RA4IIMP200KHZ'), (0.00026321186383788784, 'RA4IcorE2I'), (-0.05368661726597872, 'RA4DLSMD'), (0.0404320879318522, 'RA4DLFNMD'), (0.01716033488418702, 'RA4DLR3MD'), (-0.09990637763052741, 'RA4DLABM'), (0.0, 'RA4DLLBM'), (-0.0, 'RA4DLTRBM'), (0.04116774122187084, 'RA4DLTBBM'), (0.0, 'RA4DRABM'), (0.0, 'RA4DRLBM'), (0.07015721247286, 'RA4DRTRBM'), (0.0, 'RA4DRTBBM'), (-0.0, 'RA4DABM'), (0.0, 'RA4DLBM'), (0.0, 'RA4DTRBM'), (-0.03290637020853501, 'RA4DANBM'), (-0.0017775288428050259, 'RA4DGYBM'), (0.0, 'RA4DTBBM'), (0.010364151448050758, 'RA4DLAFM'), (-0.0, 'RA4DLTRFM'), (-0.0, 'RA4DLLFM'), (-0.0, 'RA4DLTBFM'), (0.10547834047151794, 'RA4DRAFM'), (-0.0, 'RA4DRLFM'), (-0.0, 'RA4DRTRFM'), (-0.0, 'RA4DRTBFM'), (0.0, 'RA4DAFM'), (-0.0, 'RA4DLFM'), (-0.0, 'RA4DTRFM'), (0.0, 'RA4DANFM'), (-0.0, 'RA4DGYFM'), (-0.0, 'RA4DTBFM'), (0.0, 'RA4IMFFMP'), (-0.0, 'RA4IMICFP'), (-0.0, 'RA4IMICFWT'), (-0.0, 'RA1PRSEX'), (-0.015842057553182475, 'RA1PF7A'), (0.0, 'Age_40_50'), (-0.007113282723876239, 'Age_51_61'), (-0.043632576886126956, 'Age_61plus')]\n",
      "\n",
      "R squared training set 86.77\n",
      "R squared test set 80.79\n"
     ]
    },
    {
     "data": {
      "text/plain": [
       "0.02461060972508571"
      ]
     },
     "execution_count": 12,
     "metadata": {},
     "output_type": "execute_result"
    }
   ],
   "source": [
    "#setting predictor (X) and target (y)\n",
    "X = df.drop(columns = ['jumppownums', 'RA4IMaxGrip', 'RA4IALM', 'RA4IALMbyE2Icor', 'RA4ILLM', 'RA4ILLMbyLE2Icor', 'RA4ILegE2I'])\n",
    "y = df['jumppownums']\n",
    "\n",
    "#dividing into train and test set\n",
    "X_train, X_test, y_train, y_test = train_test_split(X, y, test_size = 0.2, random_state = 42)\n",
    "\n",
    "scaler = StandardScaler().fit(X_train) \n",
    "\n",
    "X_train = scaler.transform(X_train)\n",
    "X_test = scaler.transform(X_test)\n",
    "\n",
    "# Lasso with 5 fold cross-validation\n",
    "model = LassoCV(cv=5, random_state=0, max_iter=10000000)\n",
    "\n",
    "# Fit model\n",
    "model.fit(X_train, y_train)\n",
    "\n",
    "model.alpha_\n",
    "\n",
    "lasso_best = Lasso(alpha=model.alpha_)\n",
    "lasso_best.fit(X_train, y_train)\n",
    "\n",
    "print(list(zip(lasso_best.coef_, X)))\n",
    "print('\\nR squared training set', round(lasso_best.score(X_train, y_train)*100, 2))\n",
    "print('R squared test set', round(lasso_best.score(X_test, y_test)*100, 2))\n",
    "\n",
    "metrics.mean_squared_error(y_test, lasso_best.predict(X_test))"
   ]
  },
  {
   "cell_type": "markdown",
   "id": "3f04e8fa",
   "metadata": {},
   "source": [
    "### (E/I)L"
   ]
  },
  {
   "cell_type": "code",
   "execution_count": 13,
   "id": "fdcf589e",
   "metadata": {},
   "outputs": [
    {
     "name": "stdout",
     "output_type": "stream",
     "text": [
      "[(0.07372245155441859, 'RA4DTBLMkg'), (0.0006932720847356908, 'RA4IALMbyHt2'), (0.0, 'RA4IMECF'), (0.0, 'RA4IMICF'), (0.0, 'RA4IMTBW'), (0.0, 'RA4IE2I'), (0.0, 'RA4IMFFM'), (0.0, 'RA4IALMbyE2I'), (0.06059807823180901, 'RA4IECFbyTBW'), (0.0, 'RA4P1A'), (0.0, 'RA4P1B'), (0.0, 'RA4PBMI'), (0.03179991680351984, 'RA4IBMICAT'), (0.09314602890520167, 'RA4IALMbyWt'), (0.12152838850579932, 'RA4IALMbyBMI'), (-0.0, 'RA4IRES0'), (-0.0, 'RA4IRESINF'), (-0.0, 'RA4IRESEXC'), (0.0, 'RA4IRESINC'), (0.039342035025140554, 'RA4IFCHAR'), (-0.0, 'RA4IMCAP'), (-0.0, 'RA4IIMP5KHZ'), (-0.0, 'RA4IIMP50KHZ'), (0.09411303859880192, 'RA4IPH50'), (-0.0, 'RA4IR50'), (0.0, 'RA4IXC50'), (-0.0, 'RA4IIMP200KHZ'), (-0.06205343325453355, 'RA4ILegE2I'), (-0.053756909816692434, 'RA4DLSMD'), (0.04182593696092405, 'RA4DLFNMD'), (0.013092841288762185, 'RA4DLR3MD'), (-0.07701982812132648, 'RA4DLABM'), (-0.0, 'RA4DLLBM'), (-0.0, 'RA4DLTRBM'), (0.03244418506704671, 'RA4DLTBBM'), (0.0, 'RA4DRABM'), (-0.0, 'RA4DRLBM'), (0.06469433344454073, 'RA4DRTRBM'), (-0.0, 'RA4DRTBBM'), (-0.0, 'RA4DABM'), (-0.0, 'RA4DLBM'), (0.0, 'RA4DTRBM'), (-0.0276620378794189, 'RA4DANBM'), (-0.008986046562428594, 'RA4DGYBM'), (0.0, 'RA4DTBBM'), (0.0036679806323451163, 'RA4DLAFM'), (0.0, 'RA4DLTRFM'), (-0.0, 'RA4DLLFM'), (0.0, 'RA4DLTBFM'), (0.10170738786828332, 'RA4DRAFM'), (0.0, 'RA4DRLFM'), (0.0, 'RA4DRTRFM'), (0.0, 'RA4DRTBFM'), (0.0, 'RA4DAFM'), (-0.0, 'RA4DLFM'), (0.0, 'RA4DTRFM'), (0.0, 'RA4DANFM'), (-0.0, 'RA4DGYFM'), (0.0, 'RA4DTBFM'), (0.0, 'RA4IMFFMP'), (-0.0, 'RA4IMICFP'), (0.0, 'RA4IMICFWT'), (-0.0, 'RA1PRSEX'), (-0.00767281455607498, 'RA1PF7A'), (0.0, 'Age_40_50'), (-0.00292042530136299, 'Age_51_61'), (-0.04039163965896057, 'Age_61plus')]\n",
      "\n",
      "R squared training set 87.08\n",
      "R squared test set 81.33\n"
     ]
    },
    {
     "data": {
      "text/plain": [
       "0.02391769185333374"
      ]
     },
     "execution_count": 13,
     "metadata": {},
     "output_type": "execute_result"
    }
   ],
   "source": [
    "#setting predictor (X) and target (y)\n",
    "X = df.drop(columns = ['jumppownums', 'RA4IMaxGrip', 'RA4IALM', 'RA4IALMbyE2Icor', 'RA4ILLM', 'RA4ILLMbyLE2Icor', 'RA4IcorE2I'])\n",
    "y = df['jumppownums']\n",
    "\n",
    "#dividing into train and test set\n",
    "X_train, X_test, y_train, y_test = train_test_split(X, y, test_size = 0.2, random_state = 42)\n",
    "\n",
    "scaler = StandardScaler().fit(X_train) \n",
    "\n",
    "X_train = scaler.transform(X_train)\n",
    "X_test = scaler.transform(X_test)\n",
    "\n",
    "# Lasso with 5 fold cross-validation\n",
    "model = LassoCV(cv=5, random_state=0, max_iter=10000000)\n",
    "\n",
    "# Fit model\n",
    "model.fit(X_train, y_train)\n",
    "\n",
    "model.alpha_\n",
    "\n",
    "lasso_best = Lasso(alpha=model.alpha_)\n",
    "lasso_best.fit(X_train, y_train)\n",
    "\n",
    "print(list(zip(lasso_best.coef_, X)))\n",
    "print('\\nR squared training set', round(lasso_best.score(X_train, y_train)*100, 2))\n",
    "print('R squared test set', round(lasso_best.score(X_test, y_test)*100, 2))\n",
    "\n",
    "metrics.mean_squared_error(y_test, lasso_best.predict(X_test))"
   ]
  },
  {
   "cell_type": "markdown",
   "id": "029f52fe",
   "metadata": {},
   "source": [
    "## DXA"
   ]
  },
  {
   "cell_type": "markdown",
   "id": "b169919d",
   "metadata": {},
   "source": [
    "### ALM"
   ]
  },
  {
   "cell_type": "code",
   "execution_count": 14,
   "id": "131ee0d0",
   "metadata": {},
   "outputs": [
    {
     "name": "stdout",
     "output_type": "stream",
     "text": [
      "[(0.07517223608410267, 'RA4DTBLMkg'), (0.0, 'RA4IALM'), (0.0, 'RA4IALMbyHt2'), (0.0, 'RA4IMECF'), (0.0, 'RA4IMICF'), (0.0, 'RA4IMTBW'), (0.0, 'RA4IE2I'), (0.0, 'RA4IMFFM'), (0.0, 'RA4IALMbyE2I'), (0.05463883081812066, 'RA4IECFbyTBW'), (0.0, 'RA4P1A'), (0.0, 'RA4P1B'), (0.0, 'RA4PBMI'), (0.026092170405317885, 'RA4IBMICAT'), (0.11220532211458455, 'RA4IALMbyWt'), (0.1070436680807709, 'RA4IALMbyBMI'), (-0.0, 'RA4IRES0'), (0.0, 'RA4IRESINF'), (-0.0, 'RA4IRESEXC'), (0.0, 'RA4IRESINC'), (0.03453073893779586, 'RA4IFCHAR'), (-0.0, 'RA4IMCAP'), (-0.0, 'RA4IIMP5KHZ'), (-0.0, 'RA4IIMP50KHZ'), (0.14226484841557024, 'RA4IPH50'), (-0.0, 'RA4IR50'), (0.0, 'RA4IXC50'), (-0.0, 'RA4IIMP200KHZ'), (-0.05367617635280946, 'RA4DLSMD'), (0.0404407860538058, 'RA4DLFNMD'), (0.01716272072866813, 'RA4DLR3MD'), (-0.09993125814199699, 'RA4DLABM'), (0.0, 'RA4DLLBM'), (-0.0, 'RA4DLTRBM'), (0.041179309893009455, 'RA4DLTBBM'), (0.0, 'RA4DRABM'), (0.0, 'RA4DRLBM'), (0.07015859561079561, 'RA4DRTRBM'), (0.0, 'RA4DRTBBM'), (-0.0, 'RA4DABM'), (0.0, 'RA4DLBM'), (0.0, 'RA4DTRBM'), (-0.03292017715082093, 'RA4DANBM'), (-0.0017851194915716525, 'RA4DGYBM'), (0.0, 'RA4DTBBM'), (0.010421290633758741, 'RA4DLAFM'), (-0.0, 'RA4DLTRFM'), (-0.0, 'RA4DLLFM'), (-0.0, 'RA4DLTBFM'), (0.1055265313235163, 'RA4DRAFM'), (-0.0, 'RA4DRLFM'), (-0.0, 'RA4DRTRFM'), (-0.0, 'RA4DRTBFM'), (0.0, 'RA4DAFM'), (-0.0, 'RA4DLFM'), (-0.0, 'RA4DTRFM'), (0.0, 'RA4DANFM'), (-0.0, 'RA4DGYFM'), (-0.0, 'RA4DTBFM'), (0.0, 'RA4IMFFMP'), (-0.0, 'RA4IMICFP'), (-0.0, 'RA4IMICFWT'), (-0.0, 'RA1PRSEX'), (-0.01583516676020403, 'RA1PF7A'), (0.0, 'Age_40_50'), (-0.007102034395198563, 'Age_51_61'), (-0.04362923787560795, 'Age_61plus')]\n",
      "\n",
      "R squared training set 86.77\n",
      "R squared test set 80.78\n"
     ]
    },
    {
     "data": {
      "text/plain": [
       "0.02461348876707155"
      ]
     },
     "execution_count": 14,
     "metadata": {},
     "output_type": "execute_result"
    }
   ],
   "source": [
    "#setting predictor (X) and target (y)\n",
    "X = df.drop(columns = ['jumppownums', 'RA4IMaxGrip', 'RA4IALMbyE2Icor', 'RA4ILLM', 'RA4ILLMbyLE2Icor', 'RA4ILegE2I', 'RA4IcorE2I'])\n",
    "y = df['jumppownums']\n",
    "\n",
    "#dividing into train and test set\n",
    "X_train, X_test, y_train, y_test = train_test_split(X, y, test_size = 0.2, random_state = 42)\n",
    "\n",
    "scaler = StandardScaler().fit(X_train) \n",
    "\n",
    "X_train = scaler.transform(X_train)\n",
    "X_test = scaler.transform(X_test)\n",
    "\n",
    "# Lasso with 5 fold cross-validation\n",
    "model = LassoCV(cv=5, random_state=0, max_iter=10000000)\n",
    "\n",
    "# Fit model\n",
    "model.fit(X_train, y_train)\n",
    "\n",
    "model.alpha_\n",
    "\n",
    "lasso_best = Lasso(alpha=model.alpha_)\n",
    "lasso_best.fit(X_train, y_train)\n",
    "\n",
    "print(list(zip(lasso_best.coef_, X)))\n",
    "print('\\nR squared training set', round(lasso_best.score(X_train, y_train)*100, 2))\n",
    "print('R squared test set', round(lasso_best.score(X_test, y_test)*100, 2))\n",
    "\n",
    "metrics.mean_squared_error(y_test, lasso_best.predict(X_test))"
   ]
  },
  {
   "cell_type": "markdown",
   "id": "573bf04b",
   "metadata": {},
   "source": [
    "### LLM"
   ]
  },
  {
   "cell_type": "code",
   "execution_count": 15,
   "id": "2459b2ad",
   "metadata": {},
   "outputs": [
    {
     "name": "stdout",
     "output_type": "stream",
     "text": [
      "[(0.0368000546259177, 'RA4DTBLMkg'), (0.0, 'RA4IALMbyHt2'), (0.0, 'RA4IMECF'), (0.0, 'RA4IMICF'), (0.0, 'RA4IMTBW'), (0.0, 'RA4IE2I'), (0.0, 'RA4IMFFM'), (0.0, 'RA4IALMbyE2I'), (0.053830344124092905, 'RA4IECFbyTBW'), (0.0, 'RA4P1A'), (0.0, 'RA4P1B'), (-0.0, 'RA4PBMI'), (0.013803152068356412, 'RA4IBMICAT'), (0.09227251018530103, 'RA4IALMbyWt'), (0.0953964497361689, 'RA4IALMbyBMI'), (-0.0, 'RA4IRES0'), (0.0, 'RA4IRESINF'), (-0.0, 'RA4IRESEXC'), (0.0, 'RA4IRESINC'), (0.03358890364826059, 'RA4IFCHAR'), (-0.0, 'RA4IMCAP'), (-0.0, 'RA4IIMP5KHZ'), (-0.0, 'RA4IIMP50KHZ'), (0.142899301937388, 'RA4IPH50'), (-0.0, 'RA4IR50'), (0.0, 'RA4IXC50'), (-0.0, 'RA4IIMP200KHZ'), (0.06155969710587559, 'RA4ILLM'), (-0.05221708772166409, 'RA4DLSMD'), (0.03951972864337286, 'RA4DLFNMD'), (0.014910612500997799, 'RA4DLR3MD'), (-0.08670374976662797, 'RA4DLABM'), (-0.0, 'RA4DLLBM'), (-0.0, 'RA4DLTRBM'), (0.03113387254376125, 'RA4DLTBBM'), (0.0, 'RA4DRABM'), (-0.0, 'RA4DRLBM'), (0.0701912925826081, 'RA4DRTRBM'), (-0.0, 'RA4DRTBBM'), (-0.0, 'RA4DABM'), (-0.0, 'RA4DLBM'), (0.0, 'RA4DTRBM'), (-0.03156659305769157, 'RA4DANBM'), (-0.00019180778411115177, 'RA4DGYBM'), (0.0, 'RA4DTBBM'), (0.00822220063708755, 'RA4DLAFM'), (-0.0, 'RA4DLTRFM'), (-0.0, 'RA4DLLFM'), (-0.0, 'RA4DLTBFM'), (0.09791190776625673, 'RA4DRAFM'), (-0.0, 'RA4DRLFM'), (-0.0, 'RA4DRTRFM'), (-0.0, 'RA4DRTBFM'), (0.0, 'RA4DAFM'), (-0.0, 'RA4DLFM'), (-0.0, 'RA4DTRFM'), (0.0, 'RA4DANFM'), (-0.013812666047906505, 'RA4DGYFM'), (-0.0, 'RA4DTBFM'), (0.0, 'RA4IMFFMP'), (-0.0, 'RA4IMICFP'), (0.0, 'RA4IMICFWT'), (-0.0, 'RA1PRSEX'), (-0.01641977598896285, 'RA1PF7A'), (0.0, 'Age_40_50'), (-0.008267693371654037, 'Age_51_61'), (-0.043977790524915024, 'Age_61plus')]\n",
      "\n",
      "R squared training set 86.68\n",
      "R squared test set 81.41\n"
     ]
    },
    {
     "data": {
      "text/plain": [
       "0.02381169826315509"
      ]
     },
     "execution_count": 15,
     "metadata": {},
     "output_type": "execute_result"
    }
   ],
   "source": [
    "#setting predictor (X) and target (y)\n",
    "X = df.drop(columns = ['jumppownums', 'RA4IMaxGrip', 'RA4IALMbyE2Icor', 'RA4IALM', 'RA4ILLMbyLE2Icor', 'RA4ILegE2I', 'RA4IcorE2I'])\n",
    "y = df['jumppownums']\n",
    "\n",
    "#dividing into train and test set\n",
    "X_train, X_test, y_train, y_test = train_test_split(X, y, test_size = 0.2, random_state = 42)\n",
    "\n",
    "scaler = StandardScaler().fit(X_train) \n",
    "\n",
    "X_train = scaler.transform(X_train)\n",
    "X_test = scaler.transform(X_test)\n",
    "\n",
    "# Lasso with 5 fold cross-validation\n",
    "model = LassoCV(cv=5, random_state=0, max_iter=10000000)\n",
    "\n",
    "# Fit model\n",
    "model.fit(X_train, y_train)\n",
    "\n",
    "model.alpha_\n",
    "\n",
    "lasso_best = Lasso(alpha=model.alpha_)\n",
    "lasso_best.fit(X_train, y_train)\n",
    "\n",
    "print(list(zip(lasso_best.coef_, X)))\n",
    "print('\\nR squared training set', round(lasso_best.score(X_train, y_train)*100, 2))\n",
    "print('R squared test set', round(lasso_best.score(X_test, y_test)*100, 2))\n",
    "\n",
    "metrics.mean_squared_error(y_test, lasso_best.predict(X_test))"
   ]
  },
  {
   "cell_type": "markdown",
   "id": "481c5148",
   "metadata": {},
   "source": [
    "## DXA + BIS"
   ]
  },
  {
   "cell_type": "markdown",
   "id": "7680f875",
   "metadata": {},
   "source": [
    "### ALM / (E/I)w"
   ]
  },
  {
   "cell_type": "code",
   "execution_count": 16,
   "id": "8f792ec7",
   "metadata": {},
   "outputs": [
    {
     "name": "stdout",
     "output_type": "stream",
     "text": [
      "[(0.07518002118536957, 'RA4DTBLMkg'), (0.0, 'RA4IALMbyHt2'), (0.0, 'RA4IMECF'), (0.0, 'RA4IMICF'), (0.0, 'RA4IMTBW'), (0.0, 'RA4IE2I'), (0.0, 'RA4IMFFM'), (0.0, 'RA4IALMbyE2I'), (0.05470575592972115, 'RA4IECFbyTBW'), (0.0, 'RA4P1A'), (0.0, 'RA4P1B'), (0.0, 'RA4PBMI'), (0.026083537238794197, 'RA4IBMICAT'), (0.0, 'RA4IALMbyE2Icor'), (0.11223883330981174, 'RA4IALMbyWt'), (0.10706888883181284, 'RA4IALMbyBMI'), (-0.0, 'RA4IRES0'), (0.0, 'RA4IRESINF'), (-0.0, 'RA4IRESEXC'), (0.0, 'RA4IRESINC'), (0.03455293471680494, 'RA4IFCHAR'), (-0.0, 'RA4IMCAP'), (-0.0, 'RA4IIMP5KHZ'), (-0.0, 'RA4IIMP50KHZ'), (0.1423343849022082, 'RA4IPH50'), (-0.0, 'RA4IR50'), (0.0, 'RA4IXC50'), (-0.0, 'RA4IIMP200KHZ'), (-0.053677446981612836, 'RA4DLSMD'), (0.04046259489796642, 'RA4DLFNMD'), (0.017175420679204082, 'RA4DLR3MD'), (-0.10004888465972218, 'RA4DLABM'), (0.0, 'RA4DLLBM'), (-0.0, 'RA4DLTRBM'), (0.041280652121945725, 'RA4DLTBBM'), (0.0, 'RA4DRABM'), (0.0, 'RA4DRLBM'), (0.0701655242764735, 'RA4DRTRBM'), (0.0, 'RA4DRTBBM'), (-0.0, 'RA4DABM'), (0.0, 'RA4DLBM'), (0.0, 'RA4DTRBM'), (-0.032936350211599116, 'RA4DANBM'), (-0.0018643128038600067, 'RA4DGYBM'), (0.0, 'RA4DTBBM'), (0.010446142870180855, 'RA4DLAFM'), (-0.0, 'RA4DLTRFM'), (-0.0, 'RA4DLLFM'), (-0.0, 'RA4DLTBFM'), (0.10556213346134535, 'RA4DRAFM'), (-0.0, 'RA4DRLFM'), (-0.0, 'RA4DRTRFM'), (-0.0, 'RA4DRTBFM'), (0.0, 'RA4DAFM'), (-0.0, 'RA4DLFM'), (-0.0, 'RA4DTRFM'), (0.0, 'RA4DANFM'), (-0.0, 'RA4DGYFM'), (-0.0, 'RA4DTBFM'), (0.0, 'RA4IMFFMP'), (-0.0, 'RA4IMICFP'), (-0.0, 'RA4IMICFWT'), (-0.0, 'RA1PRSEX'), (-0.015860094805351593, 'RA1PF7A'), (0.0, 'Age_40_50'), (-0.007100258294030862, 'Age_51_61'), (-0.043622921271931236, 'Age_61plus')]\n",
      "\n",
      "R squared training set 86.77\n",
      "R squared test set 80.78\n"
     ]
    },
    {
     "data": {
      "text/plain": [
       "0.024618804534017023"
      ]
     },
     "execution_count": 16,
     "metadata": {},
     "output_type": "execute_result"
    }
   ],
   "source": [
    "#setting predictor (X) and target (y)\n",
    "X = df.drop(columns = ['jumppownums', 'RA4IMaxGrip', 'RA4ILLM', 'RA4IALM', 'RA4ILLMbyLE2Icor', 'RA4ILegE2I', 'RA4IcorE2I'])\n",
    "y = df['jumppownums']\n",
    "\n",
    "#dividing into train and test set\n",
    "X_train, X_test, y_train, y_test = train_test_split(X, y, test_size = 0.2, random_state = 42)\n",
    "\n",
    "scaler = StandardScaler().fit(X_train) \n",
    "\n",
    "X_train = scaler.transform(X_train)\n",
    "X_test = scaler.transform(X_test)\n",
    "\n",
    "# Lasso with 5 fold cross-validation\n",
    "model = LassoCV(cv=5, random_state=0, max_iter=10000000)\n",
    "\n",
    "# Fit model\n",
    "model.fit(X_train, y_train)\n",
    "\n",
    "model.alpha_\n",
    "\n",
    "lasso_best = Lasso(alpha=model.alpha_)\n",
    "lasso_best.fit(X_train, y_train)\n",
    "\n",
    "print(list(zip(lasso_best.coef_, X)))\n",
    "print('\\nR squared training set', round(lasso_best.score(X_train, y_train)*100, 2))\n",
    "print('R squared test set', round(lasso_best.score(X_test, y_test)*100, 2))\n",
    "\n",
    "metrics.mean_squared_error(y_test, lasso_best.predict(X_test))"
   ]
  },
  {
   "cell_type": "markdown",
   "id": "82bf4fc1",
   "metadata": {},
   "source": [
    "### LLM / (E/I)L"
   ]
  },
  {
   "cell_type": "code",
   "execution_count": 17,
   "id": "3e555bd0",
   "metadata": {},
   "outputs": [
    {
     "name": "stdout",
     "output_type": "stream",
     "text": [
      "[(0.027474448567201947, 'RA4DTBLMkg'), (0.0, 'RA4IALMbyHt2'), (0.0, 'RA4IMECF'), (0.0, 'RA4IMICF'), (0.0, 'RA4IMTBW'), (0.0, 'RA4IE2I'), (0.0, 'RA4IMFFM'), (0.0, 'RA4IALMbyE2I'), (0.062582634037, 'RA4IECFbyTBW'), (0.0, 'RA4P1A'), (-0.0, 'RA4P1B'), (-0.0, 'RA4PBMI'), (0.01657126408248105, 'RA4IBMICAT'), (0.07136566234273485, 'RA4IALMbyWt'), (0.10713966589759746, 'RA4IALMbyBMI'), (-0.0, 'RA4IRES0'), (-0.0, 'RA4IRESINF'), (-0.0, 'RA4IRESEXC'), (0.0, 'RA4IRESINC'), (0.03898080456843605, 'RA4IFCHAR'), (-0.0, 'RA4IMCAP'), (-0.0, 'RA4IIMP5KHZ'), (-0.0, 'RA4IIMP50KHZ'), (0.09720535061292239, 'RA4IPH50'), (-0.0, 'RA4IR50'), (0.0, 'RA4IXC50'), (-0.0, 'RA4IIMP200KHZ'), (0.10741567230446618, 'RA4ILLMbyLE2Icor'), (-0.05229183721152577, 'RA4DLSMD'), (0.04155999807030058, 'RA4DLFNMD'), (0.01067857551470902, 'RA4DLR3MD'), (-0.06549015877228806, 'RA4DLABM'), (-0.0, 'RA4DLLBM'), (-0.0, 'RA4DLTRBM'), (0.02470034638495894, 'RA4DLTBBM'), (0.0, 'RA4DRABM'), (-0.0, 'RA4DRLBM'), (0.0647396030941495, 'RA4DRTRBM'), (-0.0, 'RA4DRTBBM'), (-0.0, 'RA4DABM'), (-0.0, 'RA4DLBM'), (0.0, 'RA4DTRBM'), (-0.02653989620363184, 'RA4DANBM'), (-0.010074686867580186, 'RA4DGYBM'), (0.0, 'RA4DTBBM'), (0.0017346505649122527, 'RA4DLAFM'), (0.0, 'RA4DLTRFM'), (-0.0013735697154079263, 'RA4DLLFM'), (-0.0, 'RA4DLTBFM'), (0.093559823680387, 'RA4DRAFM'), (-0.0, 'RA4DRLFM'), (0.0, 'RA4DRTRFM'), (-0.0, 'RA4DRTBFM'), (0.0, 'RA4DAFM'), (-0.0, 'RA4DLFM'), (0.0, 'RA4DTRFM'), (0.0, 'RA4DANFM'), (-0.014491342554203413, 'RA4DGYFM'), (-0.0, 'RA4DTBFM'), (0.0, 'RA4IMFFMP'), (-0.0, 'RA4IMICFP'), (0.0, 'RA4IMICFWT'), (-0.0, 'RA1PRSEX'), (-0.00913985835467473, 'RA1PF7A'), (0.0, 'Age_40_50'), (-0.004241500766701405, 'Age_51_61'), (-0.040581542998298525, 'Age_61plus')]\n",
      "\n",
      "R squared training set 87.0\n",
      "R squared test set 81.84\n"
     ]
    },
    {
     "data": {
      "text/plain": [
       "0.02326296061005514"
      ]
     },
     "execution_count": 17,
     "metadata": {},
     "output_type": "execute_result"
    }
   ],
   "source": [
    "#setting predictor (X) and target (y)\n",
    "X = df.drop(columns = ['jumppownums', 'RA4IMaxGrip', 'RA4ILLM', 'RA4IALM', 'RA4IALMbyE2Icor', 'RA4ILegE2I', 'RA4IcorE2I'])\n",
    "y = df['jumppownums']\n",
    "\n",
    "#dividing into train and test set\n",
    "X_train, X_test, y_train, y_test = train_test_split(X, y, test_size = 0.2, random_state = 42)\n",
    "\n",
    "scaler = StandardScaler().fit(X_train) \n",
    "\n",
    "X_train = scaler.transform(X_train)\n",
    "X_test = scaler.transform(X_test)\n",
    "\n",
    "# Lasso with 5 fold cross-validation\n",
    "model = LassoCV(cv=5, random_state=0, max_iter=10000000)\n",
    "\n",
    "# Fit model\n",
    "model.fit(X_train, y_train)\n",
    "\n",
    "model.alpha_\n",
    "\n",
    "lasso_best = Lasso(alpha=model.alpha_)\n",
    "lasso_best.fit(X_train, y_train)\n",
    "\n",
    "print(list(zip(lasso_best.coef_, X)))\n",
    "print('\\nR squared training set', round(lasso_best.score(X_train, y_train)*100, 2))\n",
    "print('R squared test set', round(lasso_best.score(X_test, y_test)*100, 2))\n",
    "\n",
    "metrics.mean_squared_error(y_test, lasso_best.predict(X_test))"
   ]
  }
 ],
 "metadata": {
  "kernelspec": {
   "display_name": "Python 3 (ipykernel)",
   "language": "python",
   "name": "python3"
  },
  "language_info": {
   "codemirror_mode": {
    "name": "ipython",
    "version": 3
   },
   "file_extension": ".py",
   "mimetype": "text/x-python",
   "name": "python",
   "nbconvert_exporter": "python",
   "pygments_lexer": "ipython3",
   "version": "3.10.9"
  }
 },
 "nbformat": 4,
 "nbformat_minor": 5
}
